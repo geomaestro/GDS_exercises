{
 "cells": [
  {
   "cell_type": "markdown",
   "id": "fc759772",
   "metadata": {},
   "source": [
    "<div class=\"frontmatter text-center\">\n",
    "<h1>Geospatial Data Science</h1>\n",
    "<h2>Lecture 1: Introduction and Geometric objects</h2>\n",
    "<h3>IT University of Copenhagen, Spring 2022</h3>\n",
    "<h3>Instructor: Michael Szell</h3>\n",
    "</div>\n",
    "\n",
    "# Source\n",
    "This notebook was adapted from:\n",
    "* Analyze Geospatial Data in Python: GeoPandas and Shapely: https://www.learndatasci.com/tutorials/geospatial-data-python-geopandas-shapely/\n",
    "* Automating GIS-Processes: https://autogis-site.readthedocs.io/en/latest/notebooks/L1/geometric-objects.html"
   ]
  },
  {
   "cell_type": "markdown",
   "id": "c9d1819d",
   "metadata": {},
   "source": [
    "# Imports"
   ]
  },
  {
   "cell_type": "code",
   "execution_count": 4,
   "id": "b439cad2",
   "metadata": {},
   "outputs": [],
   "source": [
    "import geopandas as gpd # for data handling - ignore for now, will introduce properly in next lecture\n",
    "import contextily as ctx # for data plotting - ignore for now, will introduce properly in next lecture"
   ]
  },
  {
   "cell_type": "code",
   "execution_count": 3,
   "id": "16145c4d",
   "metadata": {},
   "outputs": [
    {
     "name": "stdout",
     "output_type": "stream",
     "text": [
      "Collecting contextily\n",
      "  Downloading contextily-1.5.0-py3-none-any.whl (17 kB)\n",
      "Requirement already satisfied: pillow in c:\\users\\pc\\anaconda3\\lib\\site-packages (from contextily) (9.4.0)\n",
      "Requirement already satisfied: matplotlib in c:\\users\\pc\\anaconda3\\lib\\site-packages (from contextily) (3.7.0)\n",
      "Requirement already satisfied: requests in c:\\users\\pc\\anaconda3\\lib\\site-packages (from contextily) (2.28.1)\n",
      "Requirement already satisfied: joblib in c:\\users\\pc\\anaconda3\\lib\\site-packages (from contextily) (1.1.1)\n",
      "Collecting xyzservices\n",
      "  Downloading xyzservices-2023.10.1-py3-none-any.whl (56 kB)\n",
      "     -------------------------------------- 56.3/56.3 kB 979.7 kB/s eta 0:00:00\n",
      "Collecting mercantile\n",
      "  Downloading mercantile-1.2.1-py3-none-any.whl (14 kB)\n",
      "Collecting geopy\n",
      "  Downloading geopy-2.4.1-py3-none-any.whl (125 kB)\n",
      "     -------------------------------------- 125.4/125.4 kB 2.5 MB/s eta 0:00:00\n",
      "Collecting rasterio\n",
      "  Downloading rasterio-1.3.9-cp310-cp310-win_amd64.whl (23.4 MB)\n",
      "     -------------------------------------- 23.4/23.4 MB 995.8 kB/s eta 0:00:00\n",
      "Collecting geographiclib<3,>=1.52\n",
      "  Downloading geographiclib-2.0-py3-none-any.whl (40 kB)\n",
      "     ---------------------------------------- 40.3/40.3 kB 1.9 MB/s eta 0:00:00\n",
      "Requirement already satisfied: pyparsing>=2.3.1 in c:\\users\\pc\\anaconda3\\lib\\site-packages (from matplotlib->contextily) (3.0.9)\n",
      "Requirement already satisfied: numpy>=1.20 in c:\\users\\pc\\anaconda3\\lib\\site-packages (from matplotlib->contextily) (1.23.5)\n",
      "Requirement already satisfied: fonttools>=4.22.0 in c:\\users\\pc\\anaconda3\\lib\\site-packages (from matplotlib->contextily) (4.25.0)\n",
      "Requirement already satisfied: contourpy>=1.0.1 in c:\\users\\pc\\anaconda3\\lib\\site-packages (from matplotlib->contextily) (1.0.5)\n",
      "Requirement already satisfied: packaging>=20.0 in c:\\users\\pc\\anaconda3\\lib\\site-packages (from matplotlib->contextily) (22.0)\n",
      "Requirement already satisfied: python-dateutil>=2.7 in c:\\users\\pc\\anaconda3\\lib\\site-packages (from matplotlib->contextily) (2.8.2)\n",
      "Requirement already satisfied: kiwisolver>=1.0.1 in c:\\users\\pc\\anaconda3\\lib\\site-packages (from matplotlib->contextily) (1.4.4)\n",
      "Requirement already satisfied: cycler>=0.10 in c:\\users\\pc\\anaconda3\\lib\\site-packages (from matplotlib->contextily) (0.11.0)\n",
      "Requirement already satisfied: click>=3.0 in c:\\users\\pc\\anaconda3\\lib\\site-packages (from mercantile->contextily) (8.0.4)\n",
      "Requirement already satisfied: setuptools in c:\\users\\pc\\anaconda3\\lib\\site-packages (from rasterio->contextily) (65.6.3)\n",
      "Requirement already satisfied: attrs in c:\\users\\pc\\anaconda3\\lib\\site-packages (from rasterio->contextily) (22.1.0)\n",
      "Requirement already satisfied: click-plugins in c:\\users\\pc\\anaconda3\\lib\\site-packages (from rasterio->contextily) (1.1.1)\n",
      "Collecting snuggs>=1.4.1\n",
      "  Downloading snuggs-1.4.7-py3-none-any.whl (5.4 kB)\n",
      "Requirement already satisfied: certifi in c:\\users\\pc\\anaconda3\\lib\\site-packages (from rasterio->contextily) (2022.12.7)\n",
      "Collecting affine\n",
      "  Downloading affine-2.4.0-py3-none-any.whl (15 kB)\n",
      "Requirement already satisfied: cligj>=0.5 in c:\\users\\pc\\anaconda3\\lib\\site-packages (from rasterio->contextily) (0.7.2)\n",
      "Requirement already satisfied: charset-normalizer<3,>=2 in c:\\users\\pc\\anaconda3\\lib\\site-packages (from requests->contextily) (2.0.4)\n",
      "Requirement already satisfied: urllib3<1.27,>=1.21.1 in c:\\users\\pc\\anaconda3\\lib\\site-packages (from requests->contextily) (1.26.14)\n",
      "Requirement already satisfied: idna<4,>=2.5 in c:\\users\\pc\\anaconda3\\lib\\site-packages (from requests->contextily) (3.4)\n",
      "Requirement already satisfied: colorama in c:\\users\\pc\\anaconda3\\lib\\site-packages (from click>=3.0->mercantile->contextily) (0.4.6)\n",
      "Requirement already satisfied: six>=1.5 in c:\\users\\pc\\anaconda3\\lib\\site-packages (from python-dateutil>=2.7->matplotlib->contextily) (1.16.0)\n",
      "Installing collected packages: xyzservices, snuggs, geographiclib, affine, mercantile, geopy, rasterio, contextily\n",
      "Successfully installed affine-2.4.0 contextily-1.5.0 geographiclib-2.0 geopy-2.4.1 mercantile-1.2.1 rasterio-1.3.9 snuggs-1.4.7 xyzservices-2023.10.1\n",
      "Note: you may need to restart the kernel to use updated packages.\n"
     ]
    }
   ],
   "source": [
    "pip install contextily"
   ]
  },
  {
   "cell_type": "markdown",
   "id": "6ed3c66d",
   "metadata": {
    "tags": []
   },
   "source": [
    "# John Snow and the 1854 cholera outbreak"
   ]
  },
  {
   "cell_type": "markdown",
   "id": "11ac6779",
   "metadata": {},
   "source": [
    "Let's explore all the data first:"
   ]
  },
  {
   "cell_type": "code",
   "execution_count": null,
   "id": "fa82d378",
   "metadata": {
    "scrolled": true
   },
   "outputs": [],
   "source": [
    "!ls files/SnowGIS/"
   ]
  },
  {
   "cell_type": "markdown",
   "id": "c7f3e7ea",
   "metadata": {},
   "source": [
    "There are:\n",
    "- [shapefiles](https://en.wikipedia.org/wiki/Shapefile) - they are usually groups of files contaning geospatial vector data, with the same name and extensions like .shp, .shx, .dbf. Here we only care about the .shp file which contains the geometric features.\n",
    "<img src=\"files/shapememe.jpg\" width=\"400\">\n",
    "\n",
    "- raster images in [tif format](https://en.wikipedia.org/wiki/TIFF)"
   ]
  },
  {
   "cell_type": "markdown",
   "id": "331fabd8",
   "metadata": {},
   "source": [
    "<img src=\"files/rastervector.jpg\">"
   ]
  },
  {
   "cell_type": "markdown",
   "id": "9374282e",
   "metadata": {},
   "source": [
    "## Loading the data and ensuring Coordinate Reference System (CRS) consistency"
   ]
  },
  {
   "cell_type": "markdown",
   "id": "b4d57438",
   "metadata": {},
   "source": [
    "Load the data - deaths and water pumps:"
   ]
  },
  {
   "cell_type": "code",
   "execution_count": null,
   "id": "9a314c61",
   "metadata": {},
   "outputs": [],
   "source": [
    "deaths_df = gpd.read_file('files/SnowGIS/Cholera_Deaths.shp')\n",
    "pumps_df = gpd.read_file('files/SnowGIS/Pumps.shp')"
   ]
  },
  {
   "cell_type": "code",
   "execution_count": null,
   "id": "6c6d243c",
   "metadata": {},
   "outputs": [],
   "source": [
    "deaths_df.head()"
   ]
  },
  {
   "cell_type": "code",
   "execution_count": null,
   "id": "5c84804d-77b8-4360-85ad-436148b5920a",
   "metadata": {},
   "outputs": [],
   "source": [
    "type(deaths_df)"
   ]
  },
  {
   "cell_type": "markdown",
   "id": "a25ec1cc",
   "metadata": {},
   "source": [
    "We can see how many deaths have occured and where. They are points, and there is an x and a y coordinate. What are they? The shape file's CRS tells us:"
   ]
  },
  {
   "cell_type": "code",
   "execution_count": null,
   "id": "56237312",
   "metadata": {},
   "outputs": [],
   "source": [
    "deaths_df.crs"
   ]
  },
  {
   "cell_type": "markdown",
   "id": "26cf7494",
   "metadata": {},
   "source": [
    "<table><tr><td><img src=\"files/osgb36_01.png\" width=300><td><img src=\"files/osgb36_02.png\" width=300>"
   ]
  },
  {
   "cell_type": "markdown",
   "id": "1b631e49",
   "metadata": {},
   "source": [
    "The Coordinate Reference System (CRS) handles coordinates: How are coordinates on a sphere projected to the plane?"
   ]
  },
  {
   "cell_type": "markdown",
   "id": "8de88d9c",
   "metadata": {},
   "source": [
    "Sphere coordinates are longitude and latitude. But our maps are flat, not spheres, so we must project. For doing GDS, you must be familiar with the following terms:  \n",
    "https://en.wikipedia.org/wiki/Longitude  \n",
    "https://en.wikipedia.org/wiki/Latitude  \n",
    "https://en.wikipedia.org/wiki/Prime_meridian  \n",
    "https://en.wikipedia.org/wiki/Map_projection  \n",
    "https://en.wikipedia.org/wiki/Earth_radius  \n",
    "https://en.wikipedia.org/wiki/Geoid  \n",
    "https://en.wikipedia.org/wiki/Spatial_reference_system  \n",
    "https://en.wikipedia.org/wiki/World_Geodetic_System  \n",
    "https://en.wikipedia.org/wiki/Grid_reference_system  \n",
    "https://en.wikipedia.org/wiki/Georeferencing\n",
    "\n",
    "We will go through these concepts, and Python implementations, in detail in this and the next lecture."
   ]
  },
  {
   "cell_type": "markdown",
   "id": "107caecc",
   "metadata": {},
   "source": [
    "Now let's look at the pumps. They are also points:"
   ]
  },
  {
   "cell_type": "code",
   "execution_count": null,
   "id": "71d2a04b",
   "metadata": {},
   "outputs": [],
   "source": [
    "pumps_df"
   ]
  },
  {
   "cell_type": "markdown",
   "id": "93406764",
   "metadata": {},
   "source": [
    "It **MUST** have the same CRS, otherwise the two data sources won't match!\n",
    "\n",
    "Each CRS has a standardized code, the EPSG code: https://epsg.io/  \n",
    "Compare those and you should be fine:"
   ]
  },
  {
   "cell_type": "code",
   "execution_count": null,
   "id": "f9a5fce7",
   "metadata": {},
   "outputs": [],
   "source": [
    "pumps_df.crs.to_epsg() == deaths_df.crs.to_epsg()"
   ]
  },
  {
   "cell_type": "markdown",
   "id": "f13234ac",
   "metadata": {},
   "source": [
    "## Plotting the data"
   ]
  },
  {
   "cell_type": "markdown",
   "id": "3948e072",
   "metadata": {},
   "source": [
    "Ploting deaths:"
   ]
  },
  {
   "cell_type": "code",
   "execution_count": null,
   "id": "fb60fcbb",
   "metadata": {},
   "outputs": [],
   "source": [
    "ax = deaths_df.plot(column='Count', alpha=0.5, edgecolor='k', legend=True)"
   ]
  },
  {
   "cell_type": "markdown",
   "id": "4344e642",
   "metadata": {},
   "source": [
    "Let's make it larger and add the pumps:"
   ]
  },
  {
   "cell_type": "code",
   "execution_count": null,
   "id": "23d778ca",
   "metadata": {
    "tags": []
   },
   "outputs": [],
   "source": [
    "ax = deaths_df.plot(column='Count', figsize=(15, 15), alpha=0.5, edgecolor='k', legend=True)\n",
    "pumps_df.plot(ax=ax, marker='x', color='red', markersize=50)"
   ]
  },
  {
   "cell_type": "code",
   "execution_count": null,
   "id": "1fc35347-211c-4e35-8eed-6598ceeb62fb",
   "metadata": {},
   "outputs": [],
   "source": [
    "ax = deaths_df.plot(column='Count', figsize=(15, 15), alpha=0.5, edgecolor='k', legend=True)\n",
    "pumps_df.plot(ax=ax, marker='x', color='red', markersize=50);\n",
    "\n",
    "ctx.add_basemap(ax,\n",
    "    crs=deaths_df.crs.to_string(),\n",
    "    # Using the original map, hand-drawn by Snow\n",
    "    source=\"files/SnowGIS/SnowMap.tif\"\n",
    ")"
   ]
  },
  {
   "cell_type": "markdown",
   "id": "d9be19a9",
   "metadata": {},
   "source": [
    "In the rest of the course we will learn not just how to visualize geospatial data, but also to analyze it statistically. An important tool for that is shapely, which allows handling and manipulation of geometric shapes."
   ]
  },
  {
   "cell_type": "markdown",
   "id": "879c07c3",
   "metadata": {},
   "source": [
    "# Shapely and geometric objects\n",
    "\n",
    "In this lesson, you will learn how to create and manipulate geometries in Python using the [Shapely Python Package](https://shapely.readthedocs.io/en/stable/manual.html).\n",
    "\n",
    "**Sources:**\n",
    "\n",
    "These materials are partly based on [Shapely-documentation](https://shapely.readthedocs.io/en/stable/manual.html) and [Westra\n",
    "E. (2013), Chapter 3](https://www.packtpub.com/application-development/python-geospatial-development-second-edition).\n",
    "\n",
    "## Fundamental geometric objects\n",
    "\n",
    "![Spatial geometric objects](files/geo-points-verts-polys.width-1200.jpg)\n",
    "\n",
    "## Shapely spatial data model\n",
    "\n",
    "![Spatial data model](files/SpatialDataModel.png)\n",
    "\n",
    "*Fundamental geometric objects that can be used in Python with* [Shapely](https://shapely.readthedocs.io/en/stable/manual.html).\n",
    "\n",
    "The most fundamental geometric objects are `Points`, `Lines` and `Polygons` which are the basic ingredients when working with spatial data in vector format. \n",
    "Python has a specific module called [Shapely](https://shapely.readthedocs.io/en/stable/manual.html) for doing various geometric operations. Basic knowledge of using Shapely is fundamental for understanding how geometries are stored and handled in GeoPandas.\n",
    "\n",
    "**Geometric objects consist of coordinate tuples where:**\n",
    "\n",
    "-  `Point` -object represents a single point in space. Points can be either two-dimensional (x, y) or three dimensional (x, y, z).\n",
    "-  `LineString` -object (i.e. a line) represents a sequence of points joined together to form a line. Hence, a line consist of a list of at least two coordinate tuples\n",
    "-  `Polygon` -object represents a filled area that consists of a list of at least three coordinate tuples that forms the outerior ring and a (possible) list of hole polygons.\n",
    "\n",
    "**It is also possible to have a collection of geometric objects (e.g. Polygons with multiple parts):**\n",
    "\n",
    "-  `MultiPoint` -object represents a collection of points and consists of a list of coordinate-tuples\n",
    "-  `MultiLineString` -object represents a collection of lines and consists of a list of line-like sequences\n",
    "-  `MultiPolygon` -object represents a collection of polygons that consists of a list of polygon-like sequences that construct from exterior ring and (possible) hole list tuples\n",
    "\n",
    "**Useful attributes and methods in Shapely include:**\n",
    "\n",
    "-  Creating lines and polygons based on a collection of point objects.\n",
    "-  Calculating areas/length/bounds etc. of input geometries\n",
    "-  Conducting geometric operations based on the input geometries such as `union`, `difference`, `distance` etc.\n",
    "-  Conducting spatial queries between geometries such as `intersects`, `touches`, `crosses`, `within` etc.\n"
   ]
  },
  {
   "cell_type": "markdown",
   "id": "b37f2064",
   "metadata": {},
   "source": [
    "## Point\n",
    "\n",
    "Creating point is easy, you pass x and y coordinates into `Point()` -object (+ possibly also z -coordinate):"
   ]
  },
  {
   "cell_type": "code",
   "execution_count": null,
   "id": "bd193072",
   "metadata": {
    "jupyter": {
     "outputs_hidden": false
    }
   },
   "outputs": [],
   "source": [
    "# Import necessary geometric objects from shapely module\n",
    "from shapely.geometry import Point, LineString, Polygon\n",
    "\n",
    "# Create Point geometric object(s) with coordinates\n",
    "point1 = Point(2.2, 4.2)\n",
    "point2 = Point(7.2, -25.1)\n",
    "point3 = Point(9.26, -2.456)\n",
    "point3D = Point(9.26, -2.456, 0.57)"
   ]
  },
  {
   "cell_type": "markdown",
   "id": "5a1e69e8",
   "metadata": {},
   "source": [
    "Let's see what these variables now contain: "
   ]
  },
  {
   "cell_type": "code",
   "execution_count": null,
   "id": "e208df51",
   "metadata": {},
   "outputs": [],
   "source": [
    "point1"
   ]
  },
  {
   "cell_type": "markdown",
   "id": "bb18ec91",
   "metadata": {},
   "source": [
    "As we see here, Jupyter notebook is able to display the shape directly on the screen.\n",
    "\n",
    "We can use the print statement to get information about the actual definition of these objects:"
   ]
  },
  {
   "cell_type": "code",
   "execution_count": null,
   "id": "4dd30a36",
   "metadata": {
    "jupyter": {
     "outputs_hidden": false
    }
   },
   "outputs": [],
   "source": [
    "print(point1)\n",
    "print(point3D)"
   ]
  },
  {
   "cell_type": "markdown",
   "id": "c016afae",
   "metadata": {},
   "source": [
    "3D-point can be recognized from the capital Z -letter in front of the coordinates.\n",
    "\n",
    "Let's also check the data type of a point:"
   ]
  },
  {
   "cell_type": "code",
   "execution_count": null,
   "id": "4d51d7e4",
   "metadata": {},
   "outputs": [],
   "source": [
    "type(point1)"
   ]
  },
  {
   "cell_type": "markdown",
   "id": "b1450375",
   "metadata": {},
   "source": [
    "We can see that the type of the point is shapely's Point. The point object is represented in a specific format based on\n",
    "[GEOS](https://trac.osgeo.org/geos) C++ library that is one of the standard libraries behind various Geographic Information Systems. It runs under the hood e.g. in [QGIS](http://www.qgis.org/en/site/). "
   ]
  },
  {
   "cell_type": "markdown",
   "id": "cfc6de5a",
   "metadata": {},
   "source": [
    "### Point attributes and functions\n",
    "\n",
    "Points and other shapely objects have useful built-in [attributes and methods](https://shapely.readthedocs.io/en/stable/manual.html#general-attributes-and-methods). Using the available attributes, we can for example extract the coordinate values of a Point and calculate the Euclidian distance between points."
   ]
  },
  {
   "cell_type": "code",
   "execution_count": null,
   "id": "f6f5737a-c31b-44b3-88cd-155b9a0f2872",
   "metadata": {
    "tags": []
   },
   "outputs": [],
   "source": [
    "dir(point1)"
   ]
  },
  {
   "cell_type": "markdown",
   "id": "d9e3bf6d",
   "metadata": {},
   "source": [
    "`geom_type` attribute contains information about  the geometry type of the Shapely object:"
   ]
  },
  {
   "cell_type": "code",
   "execution_count": null,
   "id": "b17baacf",
   "metadata": {},
   "outputs": [],
   "source": [
    "point1.geom_type"
   ]
  },
  {
   "cell_type": "markdown",
   "id": "55dbd2b0",
   "metadata": {},
   "source": [
    "Extracting the coordinates of a Point can be done in a couple of different ways:"
   ]
  },
  {
   "cell_type": "markdown",
   "id": "5ce094ce",
   "metadata": {},
   "source": [
    "`coords` attribute contains the coordinate information as a `CoordinateSequence` which is another data type related to Shapely."
   ]
  },
  {
   "cell_type": "code",
   "execution_count": null,
   "id": "a6069fd6",
   "metadata": {},
   "outputs": [],
   "source": [
    "# Get xy coordinate tuple\n",
    "list(point1.coords)"
   ]
  },
  {
   "cell_type": "markdown",
   "id": "742e4923",
   "metadata": {},
   "source": [
    "Here we have a coordinate tuple inside a list. Using the attributes `x` and `y` it is possible to get the coordinates directly as plain decimal numbers."
   ]
  },
  {
   "cell_type": "code",
   "execution_count": null,
   "id": "f6e90fcc",
   "metadata": {
    "jupyter": {
     "outputs_hidden": false
    }
   },
   "outputs": [],
   "source": [
    "# Read x and y coordinates separately\n",
    "x = point1.x\n",
    "y = point1.y"
   ]
  },
  {
   "cell_type": "code",
   "execution_count": null,
   "id": "73ce8787",
   "metadata": {},
   "outputs": [],
   "source": [
    "print( x, y)"
   ]
  },
  {
   "cell_type": "markdown",
   "id": "803f4d04",
   "metadata": {},
   "source": [
    "It is also possible to calculate the distance between two objects using the [distance](https://shapely.readthedocs.io/en/stable/manual.html#object.distance) method. In our example the distance is calculated in a cartesian coordinate system. When working with real GIS data the distance is based on the used coordinate reference system. always check what is the unit of measurement (for example, meters) in the coordinate reference system you are using.\n",
    "\n",
    "Let's calculate the distance between `point1` and `point2`:"
   ]
  },
  {
   "cell_type": "code",
   "execution_count": null,
   "id": "46a61915",
   "metadata": {},
   "outputs": [],
   "source": [
    "# Check input data\n",
    "print(point1)\n",
    "print(point2)"
   ]
  },
  {
   "cell_type": "code",
   "execution_count": null,
   "id": "7e864967",
   "metadata": {},
   "outputs": [],
   "source": [
    "# Calculate the distance between point1 and point2\n",
    "dist = point1.distance(point2)\n",
    "\n",
    "# Print out a nicely formatted info message\n",
    "print(f\"Distance between the points is {dist} units\")"
   ]
  },
  {
   "cell_type": "markdown",
   "id": "288a5111",
   "metadata": {},
   "source": [
    "## LineString\n",
    "\n",
    "\n",
    "Creating LineString -objects is fairly similar to creating Shapely Points. \n",
    "\n",
    "Now instead using a single coordinate-tuple we can construct the line using either a list of shapely Point -objects or pass the points as coordinate-tuples:"
   ]
  },
  {
   "cell_type": "code",
   "execution_count": null,
   "id": "867c83fb",
   "metadata": {
    "jupyter": {
     "outputs_hidden": false
    }
   },
   "outputs": [],
   "source": [
    "# Create a LineString from our Point objects\n",
    "line = LineString([point1, point2, point3])"
   ]
  },
  {
   "cell_type": "code",
   "execution_count": null,
   "id": "881b7382",
   "metadata": {},
   "outputs": [],
   "source": [
    "# It is also possible to produce the same outcome using coordinate tuples\n",
    "line2 = LineString([(2.2, 4.2), (7.2, -25.1), (9.26, -2.456)])"
   ]
  },
  {
   "cell_type": "code",
   "execution_count": null,
   "id": "c4b02711",
   "metadata": {},
   "outputs": [],
   "source": [
    "# Check if lines are identical\n",
    "line == line2 "
   ]
  },
  {
   "cell_type": "markdown",
   "id": "d6cc6db7",
   "metadata": {},
   "source": [
    "Let's see how our line looks like: "
   ]
  },
  {
   "cell_type": "code",
   "execution_count": null,
   "id": "293a53c6",
   "metadata": {},
   "outputs": [],
   "source": [
    "line"
   ]
  },
  {
   "cell_type": "code",
   "execution_count": null,
   "id": "dd6ec069",
   "metadata": {},
   "outputs": [],
   "source": [
    "print(line)"
   ]
  },
  {
   "cell_type": "markdown",
   "id": "979c88f7",
   "metadata": {},
   "source": [
    "As we can see from above, the `line` -variable constitutes of multiple coordinate-pairs."
   ]
  },
  {
   "cell_type": "markdown",
   "id": "767950f8",
   "metadata": {},
   "source": [
    "Check also the data type:"
   ]
  },
  {
   "cell_type": "code",
   "execution_count": null,
   "id": "de874185",
   "metadata": {},
   "outputs": [],
   "source": [
    "# Check data type of the line object\n",
    "type(line)"
   ]
  },
  {
   "cell_type": "code",
   "execution_count": null,
   "id": "ab02f722",
   "metadata": {},
   "outputs": [],
   "source": [
    "# Check geometry type of the line object\n",
    "line.geom_type"
   ]
  },
  {
   "cell_type": "markdown",
   "id": "ff55a526",
   "metadata": {},
   "source": [
    "### LineString attributes and functions\n",
    "\n",
    "\n",
    "`LineString` -object has many useful built-in attributes and functionalities. It is for instance possible to extract the coordinates or the length of a LineString (line), calculate the centroid of the line, create points along the line at specific distance, calculate the closest distance from a line to specified Point and simplify the geometry. See full list of functionalities from [Shapely documentation](http://toblerity.org/shapely/manual.html). Here, we go through a few of them.\n",
    "\n",
    "We can extract the coordinates of a LineString similarly as with `Point`"
   ]
  },
  {
   "cell_type": "code",
   "execution_count": null,
   "id": "37caaf61",
   "metadata": {
    "jupyter": {
     "outputs_hidden": false
    }
   },
   "outputs": [],
   "source": [
    "# Get xy coordinate tuples\n",
    "list(line.coords)"
   ]
  },
  {
   "cell_type": "markdown",
   "id": "5691f9c0",
   "metadata": {},
   "source": [
    "Again, we have a list of coordinate tuples (x,y) inside a list.\n",
    "\n",
    "If you would need to access all x-coordinates or all y-coordinates of the line, you can do it directly using the `xy` attribute: "
   ]
  },
  {
   "cell_type": "code",
   "execution_count": null,
   "id": "f040eb38",
   "metadata": {
    "jupyter": {
     "outputs_hidden": false
    }
   },
   "outputs": [],
   "source": [
    "# Extract x and y coordinates separately\n",
    "xcoords = list(line.xy[0])\n",
    "ycoords = list(line.xy[1])"
   ]
  },
  {
   "cell_type": "code",
   "execution_count": null,
   "id": "7ba9879f",
   "metadata": {},
   "outputs": [],
   "source": [
    "print(xcoords)\n",
    "print(ycoords)"
   ]
  },
  {
   "cell_type": "markdown",
   "id": "fb73ece1",
   "metadata": {},
   "source": [
    "It is possible to retrieve specific attributes such as lenght of the line and center of the line (centroid) straight from the LineString object itself:"
   ]
  },
  {
   "cell_type": "code",
   "execution_count": null,
   "id": "12e300d5",
   "metadata": {
    "jupyter": {
     "outputs_hidden": false
    }
   },
   "outputs": [],
   "source": [
    "# Get the lenght of the line\n",
    "l_length = line.length\n",
    "print(f\"Length of our line: {l_length} units\")"
   ]
  },
  {
   "cell_type": "code",
   "execution_count": null,
   "id": "55fe4637",
   "metadata": {},
   "outputs": [],
   "source": [
    "# Get the centroid of the line\n",
    "print(line.centroid)"
   ]
  },
  {
   "cell_type": "markdown",
   "id": "78bd9d1a",
   "metadata": {},
   "source": [
    "As you can see, the centroid of the line is again a Shapely Point object. "
   ]
  },
  {
   "cell_type": "markdown",
   "id": "b45eaf3d",
   "metadata": {},
   "source": [
    "## Polygon\n",
    "\n",
    "\n",
    "Creating a `Polygon` -object continues the same logic of how `Point` and `LineString` were created but Polygon object only accepts a sequence of coordinates as input. \n",
    "\n",
    "Polygon needs **at least three coordinate-tuples** (three points are reguired to form a surface):"
   ]
  },
  {
   "cell_type": "code",
   "execution_count": null,
   "id": "c78e3674",
   "metadata": {
    "jupyter": {
     "outputs_hidden": false
    }
   },
   "outputs": [],
   "source": [
    "# Create a Polygon from the coordinates\n",
    "poly = Polygon([(2.2, 4.2), (7.2, -25.1), (9.26, -2.456)])"
   ]
  },
  {
   "cell_type": "markdown",
   "id": "cbb1c833",
   "metadata": {},
   "source": [
    "We can also use information from the Shapely Point objects created earlier, but we can't use the point objects directly. Instead, we need to get information of the x,y coordinate pairs as a sequence. We can achieve this by using a list comprehension."
   ]
  },
  {
   "cell_type": "code",
   "execution_count": null,
   "id": "2fbfbd79",
   "metadata": {},
   "outputs": [],
   "source": [
    "# Create a Polygon based on information from the Shapely points\n",
    "poly2 = Polygon([[p.x, p.y] for p in [point1, point2, point3]])"
   ]
  },
  {
   "cell_type": "markdown",
   "id": "fcb66c78",
   "metadata": {},
   "source": [
    "In order to understand what just happened, let's check what the list comprehension produces:"
   ]
  },
  {
   "cell_type": "code",
   "execution_count": null,
   "id": "489923fc",
   "metadata": {},
   "outputs": [],
   "source": [
    "[[p.x, p.y] for p in [point1, point2, point3]]"
   ]
  },
  {
   "cell_type": "markdown",
   "id": "05c24aff",
   "metadata": {},
   "source": [
    "This list of lists was passed as input for creating the Polygon."
   ]
  },
  {
   "cell_type": "code",
   "execution_count": null,
   "id": "3e63a93c-dad8-434e-a604-4fdb54f65174",
   "metadata": {},
   "outputs": [],
   "source": [
    "# Easier: Just add a list of point objects\n",
    "poly3 = Polygon([point1, point2, point3])"
   ]
  },
  {
   "cell_type": "code",
   "execution_count": null,
   "id": "b11791ab",
   "metadata": {},
   "outputs": [],
   "source": [
    "# Check that polygon objects created using the different approaches are identical\n",
    "print(poly == poly2)\n",
    "print(poly == poly3)"
   ]
  },
  {
   "cell_type": "markdown",
   "id": "b6d7830e",
   "metadata": {},
   "source": [
    "Let's see how our Polygon looks like"
   ]
  },
  {
   "cell_type": "code",
   "execution_count": null,
   "id": "a74443d1",
   "metadata": {},
   "outputs": [],
   "source": [
    "poly"
   ]
  },
  {
   "cell_type": "code",
   "execution_count": null,
   "id": "c1bee6d7",
   "metadata": {},
   "outputs": [],
   "source": [
    "print(poly)"
   ]
  },
  {
   "cell_type": "markdown",
   "id": "5822013f",
   "metadata": {},
   "source": [
    "Notice that `Polygon` representation has double parentheses around the coordinates (i.e. `POLYGON ((<values in here>))` ). This is because Polygon can also have holes inside of it. "
   ]
  },
  {
   "cell_type": "markdown",
   "id": "e90954ba",
   "metadata": {},
   "source": [
    "Check also the data type:"
   ]
  },
  {
   "cell_type": "code",
   "execution_count": null,
   "id": "17a18b1a",
   "metadata": {},
   "outputs": [],
   "source": [
    "# Data type\n",
    "type(poly)"
   ]
  },
  {
   "cell_type": "code",
   "execution_count": null,
   "id": "487bbd13",
   "metadata": {},
   "outputs": [],
   "source": [
    "# Geometry type\n",
    "poly.geom_type"
   ]
  },
  {
   "cell_type": "code",
   "execution_count": 91,
   "id": "2c17067a",
   "metadata": {},
   "outputs": [],
   "source": [
    "# Check the help for Polygon objects:\n",
    "help(Polygon)"
   ]
  },
  {
   "cell_type": "markdown",
   "id": "2e54410c",
   "metadata": {},
   "source": [
    "\n",
    "\n",
    "As the help of [Polygon](https://shapely.readthedocs.io/en/stable/manual.html#polygons) -object tells, a Polygon can be constructed using exterior coordinates and interior coordinates (optional) where the interior coordinates creates a hole inside the Polygon:\n"
   ]
  },
  {
   "cell_type": "markdown",
   "id": "61c626f7",
   "metadata": {},
   "source": [
    "Let's see how we can create a `Polygon` with a hole:"
   ]
  },
  {
   "cell_type": "code",
   "execution_count": null,
   "id": "22790500",
   "metadata": {},
   "outputs": [],
   "source": [
    "# Define the outer border\n",
    "border = [(-180, 90), (-180, -90), (180, -90), (180, 90)]"
   ]
  },
  {
   "cell_type": "code",
   "execution_count": null,
   "id": "b6ee44e8",
   "metadata": {},
   "outputs": [],
   "source": [
    "# Outer polygon\n",
    "world = Polygon(shell=border)\n",
    "print(world)"
   ]
  },
  {
   "cell_type": "code",
   "execution_count": null,
   "id": "d810352c",
   "metadata": {},
   "outputs": [],
   "source": [
    "world"
   ]
  },
  {
   "cell_type": "code",
   "execution_count": null,
   "id": "8d3b3211",
   "metadata": {},
   "outputs": [],
   "source": [
    "# Let's create a single big hole where we leave ten units at the boundaries\n",
    "# Note: there could be multiple holes, so we need to provide list of coordinates for the hole inside a list\n",
    "hole = [[(-170, 80), (-170, -80), (170, -80), (170, 80)]]"
   ]
  },
  {
   "cell_type": "code",
   "execution_count": null,
   "id": "259ac339",
   "metadata": {},
   "outputs": [],
   "source": [
    "# Now we can construct our Polygon with the hole inside\n",
    "frame = Polygon(shell=border, holes=hole)\n",
    "print(frame)"
   ]
  },
  {
   "cell_type": "markdown",
   "id": "b793b4b0",
   "metadata": {},
   "source": [
    "Let's see what we have now:"
   ]
  },
  {
   "cell_type": "code",
   "execution_count": null,
   "id": "1231ea6d",
   "metadata": {},
   "outputs": [],
   "source": [
    "frame"
   ]
  },
  {
   "cell_type": "markdown",
   "id": "25f57785",
   "metadata": {},
   "source": [
    "As we can see the `Polygon` has now two different tuples of coordinates. The first one represents the **outerior** and the second one represents the **hole** inside of the Polygon."
   ]
  },
  {
   "cell_type": "markdown",
   "id": "dff149f0",
   "metadata": {},
   "source": [
    "### Polygon attributes and functions\n",
    "\n",
    "\n",
    "We can again access different attributes directly from the `Polygon` object itself that can be really useful for many analyses, such as `area`, `centroid`, `bounding box`, `exterior`, and `exterior-length`. See a full list of methods in the [Shapely User Manual](https://shapely.readthedocs.io/en/stable/manual.html#the-shapely-user-manual).\n",
    "\n",
    "Here, we can see a few of the available attributes and how to access them:"
   ]
  },
  {
   "cell_type": "code",
   "execution_count": null,
   "id": "5822ab02",
   "metadata": {},
   "outputs": [],
   "source": [
    "# Print the outputs\n",
    "print(f\"Polygon centroid: {world.centroid}\")\n",
    "print(f\"Polygon Area: {world.area}\")\n",
    "print(f\"Polygon Bounding Box: {world.bounds}\")\n",
    "print(f\"Polygon Exterior: {world.exterior}\")\n",
    "print(f\"Polygon Exterior Length: {world.exterior.length}\")"
   ]
  },
  {
   "cell_type": "markdown",
   "id": "b9ba48ed",
   "metadata": {},
   "source": [
    "As we can see above, it is again fairly straightforward to access different attributes from the `Polygon` -object. Note that distance metrics will make more sense when we start working with data in a projected coordinate system."
   ]
  },
  {
   "cell_type": "markdown",
   "id": "ce0c39c3",
   "metadata": {},
   "source": [
    "#### Check your understanding\n",
    "\n",
    "Plot these shapes using Shapely!\n",
    "\n",
    "- **Pentagon**, example coords: `(30, 2.01), (31.91, 0.62), (31.18, -1.63), (28.82, -1.63), (28.09, 0.62)` \n",
    "- **Triangle**   \n",
    "- **Square**    \n",
    "- **Circle**    \n"
   ]
  },
  {
   "cell_type": "code",
   "execution_count": null,
   "id": "6c8ce89d",
   "metadata": {},
   "outputs": [],
   "source": [
    "# Pentagon - Coordinates borrowed from this thread: https://tex.stackexchange.com/questions/179843/make-a-polygon-with-automatically-labelled-nodes-according-to-their-coordinates\n",
    "Polygon([(30, 2.01), (31.91, 0.62), (31.18, -1.63), (28.82, -1.63), (28.09, 0.62)])"
   ]
  },
  {
   "cell_type": "code",
   "execution_count": null,
   "id": "711b4595",
   "metadata": {},
   "outputs": [],
   "source": [
    "# Triangle\n"
   ]
  },
  {
   "cell_type": "code",
   "execution_count": null,
   "id": "448d107f",
   "metadata": {},
   "outputs": [],
   "source": [
    "# Square\n"
   ]
  },
  {
   "cell_type": "code",
   "execution_count": null,
   "id": "b200753e",
   "metadata": {},
   "outputs": [],
   "source": [
    "# Circle (using a buffer around a point)\n"
   ]
  },
  {
   "cell_type": "markdown",
   "id": "4e3844bf",
   "metadata": {},
   "source": [
    "## Geometry collections (optional)\n",
    "\n",
    "\n",
    "In some occassions it is useful to store multiple geometries (for example, several points or several polygons) in a single feature. A practical example would be a country that is composed of several islands. In such case, all these polygons share the same attributes on the country-level and it might be reasonable to store that country as geometry collection that contains all the polygons. The attribute table would then contain one row of information with country-level attributes, and the geometry related to those attributes would represent several polygon. \n",
    "\n",
    "In Shapely, collections of points are implemented by using a MultiPoint -object, collections of curves by using a MultiLineString -object, and collections of surfaces by a MultiPolygon -object. "
   ]
  },
  {
   "cell_type": "code",
   "execution_count": null,
   "id": "918cfbfc",
   "metadata": {},
   "outputs": [],
   "source": [
    "# Import constructors for creating geometry collections\n",
    "from shapely.geometry import MultiPoint, MultiLineString, MultiPolygon"
   ]
  },
  {
   "cell_type": "markdown",
   "id": "63edfbb1",
   "metadata": {},
   "source": [
    "Let's start by creating MultiPoint and MultilineString objects:"
   ]
  },
  {
   "cell_type": "code",
   "execution_count": null,
   "id": "94fed325",
   "metadata": {},
   "outputs": [],
   "source": [
    "# Create a MultiPoint object of our points 1,2 and 3\n",
    "multi_point = MultiPoint([point1, point2, point3])\n",
    "\n",
    "# It is also possible to pass coordinate tuples inside\n",
    "multi_point2 = MultiPoint([(2.2, 4.2), (7.2, -25.1), (9.26, -2.456)])\n",
    "\n",
    "# We can also create a MultiLineString with two lines\n",
    "line1 = LineString([point1, point2])\n",
    "line2 = LineString([point2, point3])\n",
    "multi_line = MultiLineString([line1, line2])\n",
    "\n",
    "# Print object definitions\n",
    "print(multi_point)\n",
    "print(multi_line)"
   ]
  },
  {
   "cell_type": "code",
   "execution_count": null,
   "id": "df11468e",
   "metadata": {},
   "outputs": [],
   "source": [
    "multi_point"
   ]
  },
  {
   "cell_type": "code",
   "execution_count": null,
   "id": "b04a6024",
   "metadata": {},
   "outputs": [],
   "source": [
    "multi_line"
   ]
  },
  {
   "cell_type": "markdown",
   "id": "1ca19c69",
   "metadata": {},
   "source": [
    "MultiPolygons are constructed in a similar manner. Let's create a bounding box for \"the world\" by combinin two separate polygons that represent the western and eastern hemispheres. "
   ]
  },
  {
   "cell_type": "code",
   "execution_count": null,
   "id": "a1ef597b",
   "metadata": {
    "jupyter": {
     "outputs_hidden": false
    }
   },
   "outputs": [],
   "source": [
    "# Let's create the exterior of the western part of the world\n",
    "west_exterior = [(-180, 90), (-180, -90), (0, -90), (0, 90)]\n",
    "\n",
    "# Let's create a hole --> remember there can be multiple holes, thus we need to have a list of hole(s). \n",
    "# Here we have just one.\n",
    "west_hole = [[(-170, 80), (-170, -80), (-10, -80), (-10, 80)]]\n",
    "\n",
    "# Create the Polygon\n",
    "west_poly = Polygon(shell=west_exterior, holes=west_hole)\n",
    "\n",
    "# Print object definition\n",
    "print(west_poly)"
   ]
  },
  {
   "cell_type": "code",
   "execution_count": null,
   "id": "b9eae360",
   "metadata": {},
   "outputs": [],
   "source": [
    "west_poly"
   ]
  },
  {
   "cell_type": "markdown",
   "id": "1471732c",
   "metadata": {},
   "source": [
    "Shapely also has a tool for creating [a bounding box](https://en.wikipedia.org/wiki/Minimum_bounding_box) based on minimum and maximum x and y coordinates. Instead of using the Polygon constructor, let's use the [box](https://shapely.readthedocs.io/en/stable/manual.html#shapely.geometry.box) constructor for creating the polygon:  "
   ]
  },
  {
   "cell_type": "code",
   "execution_count": null,
   "id": "f20d77f8",
   "metadata": {},
   "outputs": [],
   "source": [
    "from shapely.geometry import box"
   ]
  },
  {
   "cell_type": "code",
   "execution_count": null,
   "id": "2f2674a1",
   "metadata": {},
   "outputs": [],
   "source": [
    "# Specify the bbox extent (lower-left corner coordinates and upper-right corner coordinates)\n",
    "min_x, min_y = 0, -90\n",
    "max_x, max_y = 180, 90\n",
    "\n",
    "# Create the polygon using Shapely\n",
    "east_poly = box(minx=min_x, miny=min_y, maxx=max_x, maxy=max_y)\n",
    "\n",
    "# Print object definition\n",
    "print(east_poly)"
   ]
  },
  {
   "cell_type": "code",
   "execution_count": null,
   "id": "8e1b92e2",
   "metadata": {},
   "outputs": [],
   "source": [
    "east_poly"
   ]
  },
  {
   "cell_type": "markdown",
   "id": "d420e38d",
   "metadata": {},
   "source": [
    "Finally, we can combine the two polygons into a MultiPolygon:"
   ]
  },
  {
   "cell_type": "code",
   "execution_count": null,
   "id": "8b3a6dba",
   "metadata": {},
   "outputs": [],
   "source": [
    "# Let's create our MultiPolygon. We can pass multiple Polygon -objects into our MultiPolygon as a list\n",
    "multi_poly = MultiPolygon([west_poly, east_poly])\n",
    "\n",
    "# Print object definition\n",
    "print(multi_poly)"
   ]
  },
  {
   "cell_type": "code",
   "execution_count": null,
   "id": "9f64b62e",
   "metadata": {},
   "outputs": [],
   "source": [
    "multi_poly"
   ]
  },
  {
   "cell_type": "markdown",
   "id": "92c88f08",
   "metadata": {},
   "source": [
    "We can see that the outputs are similar to the basic geometric objects that we created previously but now these objects contain multiple features of those points, lines or polygons.\n",
    "\n",
    "### Convex hull and envelope\n",
    "\n",
    "Convex hull refers to the smalles possible polygon that contains all objects in a collection. Alongside with the minimum bounding box, convex hull is a useful shape when aiming to describe the extent of your data.  \n",
    "\n",
    "Let's create a convex hull around our multi_point object:"
   ]
  },
  {
   "cell_type": "code",
   "execution_count": null,
   "id": "5df2bd9e",
   "metadata": {},
   "outputs": [],
   "source": [
    "# Check input geometry\n",
    "multi_point"
   ]
  },
  {
   "cell_type": "code",
   "execution_count": null,
   "id": "5a3fbc6c",
   "metadata": {},
   "outputs": [],
   "source": [
    "# Convex Hull (smallest polygon around the geometry collection)\n",
    "multi_point.convex_hull"
   ]
  },
  {
   "cell_type": "code",
   "execution_count": null,
   "id": "924afdef",
   "metadata": {},
   "outputs": [],
   "source": [
    "# Envelope (smalles rectangular polygon around the geometry collection): \n",
    "multi_point.envelope"
   ]
  },
  {
   "cell_type": "markdown",
   "id": "bc31934f",
   "metadata": {},
   "source": [
    "### Other useful attributes \n",
    "lenght of the geometry collection:"
   ]
  },
  {
   "cell_type": "code",
   "execution_count": null,
   "id": "a97bea2e",
   "metadata": {},
   "outputs": [],
   "source": [
    "print(f\"Number of objects in our MultiLine: {len(multi_line)}\")\n",
    "print(f\"Number of objects in our MultiPolygon: {len(multi_poly)}\")"
   ]
  },
  {
   "cell_type": "markdown",
   "id": "f181ff08",
   "metadata": {},
   "source": [
    "Area:"
   ]
  },
  {
   "cell_type": "code",
   "execution_count": null,
   "id": "54802bc3",
   "metadata": {
    "jupyter": {
     "outputs_hidden": false
    }
   },
   "outputs": [],
   "source": [
    "# Print outputs:\n",
    "print(f\"Area of our MultiPolygon: {multi_poly.area}\")\n",
    "print(f\"Area of our Western Hemisphere polygon: {multi_poly[0].area}\")"
   ]
  },
  {
   "cell_type": "markdown",
   "id": "56ed6882",
   "metadata": {},
   "source": [
    "From the above we can see that MultiPolygons have exactly the same attributes available as single geometric objects but now the information such as area calculates the area of **ALL** of the individual -objects combined. We can also access individual objects inside the geometry collections using indices."
   ]
  },
  {
   "cell_type": "markdown",
   "id": "7aa1a535",
   "metadata": {},
   "source": [
    "Finally, we can check if we have a \"valid\" MultiPolygon. MultiPolygon is thought as valid if the individual polygons does notintersect with each other. \n",
    "Here, because the polygons have a common 0-meridian, we should NOT have a valid polygon. We can check the validity of an object from the **is_valid** -attribute that tells if the polygons or lines intersect with each other. This can be really useful information when trying to find topological errors from your data:"
   ]
  },
  {
   "cell_type": "code",
   "execution_count": null,
   "id": "9cac7b93",
   "metadata": {
    "scrolled": true
   },
   "outputs": [],
   "source": [
    "print(f\"Is polygon valid?: {multi_poly.is_valid}\")"
   ]
  }
 ],
 "metadata": {
  "kernelspec": {
   "display_name": "Python 3 (ipykernel)",
   "language": "python",
   "name": "python3"
  },
  "language_info": {
   "codemirror_mode": {
    "name": "ipython",
    "version": 3
   },
   "file_extension": ".py",
   "mimetype": "text/x-python",
   "name": "python",
   "nbconvert_exporter": "python",
   "pygments_lexer": "ipython3",
   "version": "3.10.9"
  }
 },
 "nbformat": 4,
 "nbformat_minor": 5
}
