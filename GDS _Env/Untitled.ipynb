{
 "cells": [
  {
   "cell_type": "code",
   "execution_count": 1,
   "id": "f5140c9f-bb60-4fa2-89e7-cb46130e234f",
   "metadata": {},
   "outputs": [
    {
     "name": "stdout",
     "output_type": "stream",
     "text": [
      "Collecting pydeck\n",
      "  Downloading pydeck-0.8.0-py2.py3-none-any.whl (4.7 MB)\n",
      "\u001b[2K     \u001b[90m━━━━━━━━━━━━━━━━━━━━━━━━━━━━━━━━━━━━━━━━\u001b[0m \u001b[32m4.7/4.7 MB\u001b[0m \u001b[31m40.9 MB/s\u001b[0m eta \u001b[36m0:00:00\u001b[0m:00:01\u001b[0m0:01\u001b[0m\n",
      "\u001b[?25hRequirement already satisfied: jinja2>=2.10.1 in /opt/conda/envs/gds/lib/python3.9/site-packages (from pydeck) (3.1.2)\n",
      "Requirement already satisfied: numpy>=1.16.4 in /opt/conda/envs/gds/lib/python3.9/site-packages (from pydeck) (1.23.4)\n",
      "Requirement already satisfied: MarkupSafe>=2.0 in /opt/conda/envs/gds/lib/python3.9/site-packages (from jinja2>=2.10.1->pydeck) (2.1.3)\n",
      "Installing collected packages: pydeck\n",
      "Successfully installed pydeck-0.8.0\n",
      "Note: you may need to restart the kernel to use updated packages.\n"
     ]
    }
   ],
   "source": [
    "pip install pydeck"
   ]
  },
  {
   "cell_type": "code",
   "execution_count": null,
   "id": "cf59dc33-59fe-4774-83b2-15dae0b34645",
   "metadata": {},
   "outputs": [],
   "source": []
  }
 ],
 "metadata": {
  "kernelspec": {
   "display_name": "GDS-10.0",
   "language": "python",
   "name": "gds"
  },
  "language_info": {
   "codemirror_mode": {
    "name": "ipython",
    "version": 3
   },
   "file_extension": ".py",
   "mimetype": "text/x-python",
   "name": "python",
   "nbconvert_exporter": "python",
   "pygments_lexer": "ipython3",
   "version": "3.9.18"
  }
 },
 "nbformat": 4,
 "nbformat_minor": 5
}
