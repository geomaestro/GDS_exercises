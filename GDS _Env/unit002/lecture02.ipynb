{
 "cells": [
  {
   "cell_type": "markdown",
   "id": "fc759772",
   "metadata": {},
   "source": [
    "<div class=\"frontmatter text-center\">\n",
    "<h1>Geospatial Data Science</h1>\n",
    "<h2>Lecture 2: Geospatial Data in Python</h2>\n",
    "<h3>IT University of Copenhagen, Spring 2022</h3>\n",
    "<h3>Instructor: Michael Szell</h3>\n",
    "</div>\n",
    "\n",
    "# Source\n",
    "This notebook was adapted from:\n",
    "* A course on Geographic Data Science: https://darribas.org/gds_course/content/bC/lab_C.html\n",
    "* Automating GIS-Processes: https://autogis-site.readthedocs.io/en/latest/notebooks/L2/02-projections.html"
   ]
  },
  {
   "cell_type": "markdown",
   "id": "458d7954",
   "metadata": {},
   "source": [
    "# PART 1: Data Inspection"
   ]
  },
  {
   "cell_type": "markdown",
   "id": "c9d1819d",
   "metadata": {},
   "source": [
    "## Imports"
   ]
  },
  {
   "cell_type": "code",
   "execution_count": null,
   "id": "f9a137b4",
   "metadata": {},
   "outputs": [],
   "source": [
    "import geopandas as gpd # for geospatial data handling\n",
    "import osmnx # for handling data from OpenStreetMap (osm) with the help of networkX (nx)\n",
    "import contextily as cx # for plotting\n",
    "import matplotlib.pyplot as plt # for plotting"
   ]
  },
  {
   "cell_type": "code",
   "execution_count": null,
   "id": "a1a96357",
   "metadata": {
    "tags": [
     "remove-cell"
    ]
   },
   "outputs": [],
   "source": [
    "osmnx.config(\n",
    "    overpass_settings='[out:json][timeout:90][date:\"2020-09-07T00:00:00Z\"]'\n",
    ")"
   ]
  },
  {
   "cell_type": "markdown",
   "id": "93e6b686",
   "metadata": {},
   "source": [
    "In this lecture, we will learn how to load, manipulate and visualize spatial data. In some senses, spatial data are usually included simply as \"one more column\" in a table. However, *spatial is special* sometimes and there are few aspects in which geographic data differ from standard numerical tables. Dealing with spatial data in Python largely resembles dealing with non-spatial data."
   ]
  },
  {
   "cell_type": "markdown",
   "id": "4ae433d1",
   "metadata": {},
   "source": [
    "## Introduction to GeoPandas"
   ]
  },
  {
   "cell_type": "markdown",
   "id": "ae494d1f",
   "metadata": {},
   "source": [
    "There are various different GIS data formats available such as [Shapefile](https://en.wikipedia.org/wiki/Shapefile), [GeoJSON](https://en.wikipedia.org/wiki/GeoJSON), [KML](https://en.wikipedia.org/wiki/Keyhole_Markup_Language), and [GPKG](https://en.wikipedia.org/wiki/GeoPackage). [Geopandas](https://geopandas.org/en/stable/docs/user_guide/io.html) is capable of reading data from all of these formats (plus many more), and it combines the capabilities of the data analysis library [pandas](https://pandas.pydata.org/pandas-docs/stable/) with other packages like [shapely](https://shapely.readthedocs.io/en/stable/manual.html) and [fiona](https://fiona.readthedocs.io/en/latest/manual.html) for managing spatial data. \n",
    "\n",
    "The main data structures in geopandas are `GeoSeries` and `GeoDataFrame` which extend the capabilities of `Series` and `DataFrames` from pandas. This means that we can use all our pandas skills also when working with geopandas!\n",
    "\n",
    "The main difference between geodataframes and pandas dataframes is that a [geodataframe](https://geopandas.org/en/stable/docs/user_guide/data_structures.html#geodataframe) should contain one column for geometries. By default, the name of this column is `'geometry'`. The geometry column is a [geoseries](https://geopandas.org/en/stable/docs/user_guide/data_structures.html#geoseries) which contains the geometries (points, lines, polygons, multipolygons etc.) as shapely objects. More info here: https://geopandas.org/en/stable/getting_started/introduction.html\n",
    "\n",
    "<img src=\"files/dataframe.svg\">"
   ]
  },
  {
   "cell_type": "markdown",
   "id": "759bad50",
   "metadata": {},
   "source": [
    "## Datasets"
   ]
  },
  {
   "cell_type": "markdown",
   "id": "227baa78",
   "metadata": {},
   "source": [
    "To learn these concepts, we will be playing with three main datasets: Cities, streets, and bars in Spain. These datasets can be loaded dynamically from the web, or from your computer."
   ]
  },
  {
   "cell_type": "markdown",
   "id": "15630dab",
   "metadata": {},
   "source": [
    "### Cities\n",
    "\n",
    "First we will use a polygon object. We will use an open dataset that contains the boundaries of Spanish cities. We can read it into an object named `cities` by:"
   ]
  },
  {
   "cell_type": "code",
   "execution_count": null,
   "id": "cc5d418c",
   "metadata": {},
   "outputs": [],
   "source": [
    "cities = gpd.read_file(\"https://ndownloader.figshare.com/files/20232174\")"
   ]
  },
  {
   "cell_type": "markdown",
   "id": "86f087b3",
   "metadata": {},
   "source": [
    "The code cell above requires internet connectivity. If you are not online you can read the data from your computer with the following line of code: "
   ]
  },
  {
   "cell_type": "code",
   "execution_count": null,
   "id": "14f4f31a",
   "metadata": {},
   "outputs": [],
   "source": [
    "cities = gpd.read_file(\"files/cities.gpkg\")"
   ]
  },
  {
   "cell_type": "markdown",
   "id": "f4b34efe",
   "metadata": {},
   "source": [
    "---"
   ]
  },
  {
   "cell_type": "markdown",
   "id": "4660a16b",
   "metadata": {},
   "source": [
    "### Streets\n",
    "\n",
    "This dataset froms of a project called \"Las calles de las mujeres\", a community-driven initiative exploring the extent to which streets are named after women. \n",
    "\n",
    "Check out more about the project, including an interactive map at: [https://geochicasosm.github.io/lascallesdelasmujeres/](https://geochicasosm.github.io/lascallesdelasmujeres/)\n",
    "\n",
    "In addition to polygons, we will play with a line layer. For that, we are going to use a subset of street network from the Spanish city of Madrid. \n",
    "\n",
    "The data is available on the following web address:"
   ]
  },
  {
   "cell_type": "code",
   "execution_count": null,
   "id": "92daa9b9",
   "metadata": {},
   "outputs": [],
   "source": [
    "url = (\n",
    "    \"https://github.com/geochicasosm/lascallesdelasmujeres\"\n",
    "    \"/raw/master/data/madrid/final_tile.geojson\"\n",
    ")\n",
    "url"
   ]
  },
  {
   "cell_type": "markdown",
   "id": "bf24212b",
   "metadata": {},
   "source": [
    "And you can read it into an object called `streets` with:"
   ]
  },
  {
   "cell_type": "code",
   "execution_count": null,
   "id": "93e98bad",
   "metadata": {},
   "outputs": [],
   "source": [
    "streets = gpd.read_file(url)"
   ]
  },
  {
   "cell_type": "markdown",
   "id": "20073076",
   "metadata": {},
   "source": [
    "---\n",
    "\n",
    "The code cell above requires internet connectivity. If you are not online, you can read the data with the following line of code: "
   ]
  },
  {
   "cell_type": "code",
   "execution_count": null,
   "id": "2fbe09cd",
   "metadata": {},
   "outputs": [],
   "source": [
    "streets = gpd.read_file(\"files/streets.geojson\")"
   ]
  },
  {
   "cell_type": "markdown",
   "id": "7dd0447a",
   "metadata": {},
   "source": [
    "---"
   ]
  },
  {
   "cell_type": "markdown",
   "id": "d6a1101e",
   "metadata": {},
   "source": [
    "### Bars\n",
    "\n",
    "The final dataset we will rely on is a set of points demarcating the location of bars in Madrid. To obtain it, we will use `osmnx`, a Python library that allows us to query [OpenStreetMap](https://www.openstreetmap.org). Note that we use the method `pois_from_place`, which queries for points of interest (POIs, or `pois`) in a particular place (Madrid in this case). In addition, we can specify a set of tags to delimit the query. We use this to ask _only_ for amenities of the type \"bar\":"
   ]
  },
  {
   "cell_type": "code",
   "execution_count": null,
   "id": "63860caa",
   "metadata": {},
   "outputs": [],
   "source": [
    "pois = osmnx.geometries_from_place(\n",
    "    \"Madrid, Spain\", tags={\"amenity\": \"bar\"}\n",
    ")"
   ]
  },
  {
   "cell_type": "markdown",
   "id": "3713347d",
   "metadata": {},
   "source": [
    "You do not need to know at this point what happens behind the scenes when we run `geometries_from_place` but, if you are curious, we are making a query to [OpenStreetMap](https://www.openstreetmap.org) (almost as if you typed \"bars in Madrid, Spain\" within Google Maps) and getting the response as a table of data, instead of as a website with an interactive map. Pretty cool, huh?"
   ]
  },
  {
   "cell_type": "markdown",
   "id": "f0777305",
   "metadata": {},
   "source": [
    "---"
   ]
  },
  {
   "cell_type": "markdown",
   "id": "2523c625",
   "metadata": {},
   "source": [
    "## Inspecting spatial data"
   ]
  },
  {
   "cell_type": "markdown",
   "id": "43113675",
   "metadata": {},
   "source": [
    "The most direct way to get from a file to a quick visualization of the data is by loading it as a `GeoDataFrame` and calling the `plot` command. \n",
    "\n",
    "In two lines of code, we will obtain a graphical representation of the spatial data contained in a file that can be in many formats; actually, since it uses the same drivers under the hood, you can load pretty much the same kind of vector files that Desktop GIS packages like QGIS permit. Let us start by plotting single layers in a crude but quick form, and we will build style and sophistication into our plots later on."
   ]
  },
  {
   "cell_type": "markdown",
   "id": "11fb6cba",
   "metadata": {},
   "source": [
    "### Polygons"
   ]
  },
  {
   "cell_type": "markdown",
   "id": "a230980e",
   "metadata": {},
   "source": [
    "Now `cities` is a `GeoDataFrame`. Very similar to a traditional, non-spatial `DataFrame`, but with an additional column called `geometry`:"
   ]
  },
  {
   "cell_type": "code",
   "execution_count": null,
   "id": "bcab0234",
   "metadata": {},
   "outputs": [],
   "source": [
    "cities.head()"
   ]
  },
  {
   "cell_type": "markdown",
   "id": "e6279852",
   "metadata": {},
   "source": [
    "This allows us to quickly produce a plot by executing the following line:"
   ]
  },
  {
   "cell_type": "code",
   "execution_count": null,
   "id": "6b5298cf",
   "metadata": {},
   "outputs": [],
   "source": [
    "cities.plot()"
   ]
  },
  {
   "cell_type": "markdown",
   "id": "c338907e",
   "metadata": {},
   "source": [
    "This might not be the most aesthetically pleasant visual representation of cities, but it is hard to argue it is not quick to produce. We will work on styling and customizing spatial plots later on."
   ]
  },
  {
   "cell_type": "markdown",
   "id": "9c496f39",
   "metadata": {},
   "source": [
    "**Pro-tip**: if you call a single row of the `geometry` column, it'll return a small plot ith the shape:"
   ]
  },
  {
   "cell_type": "code",
   "execution_count": null,
   "id": "d2cefd84",
   "metadata": {},
   "outputs": [],
   "source": [
    "cities.loc[0, 'geometry']"
   ]
  },
  {
   "cell_type": "markdown",
   "id": "9f2e4f68",
   "metadata": {},
   "source": [
    "### Lines"
   ]
  },
  {
   "cell_type": "markdown",
   "id": "1b8e19f1",
   "metadata": {},
   "source": [
    "Similarly to the polygon case, if we pick the `\"geometry\"` column of a table with lines, a single row will display the geometry as well:"
   ]
  },
  {
   "cell_type": "code",
   "execution_count": null,
   "id": "ea419c43-b6da-4bb9-a10b-642ed9b4e065",
   "metadata": {},
   "outputs": [],
   "source": [
    "streets.head()"
   ]
  },
  {
   "cell_type": "code",
   "execution_count": null,
   "id": "671f7169",
   "metadata": {},
   "outputs": [],
   "source": [
    "streets.loc[2, 'geometry']"
   ]
  },
  {
   "cell_type": "markdown",
   "id": "16aa0d9d",
   "metadata": {},
   "source": [
    "A quick plot is similarly generated by:"
   ]
  },
  {
   "cell_type": "code",
   "execution_count": null,
   "id": "394d7e25",
   "metadata": {},
   "outputs": [],
   "source": [
    "streets.plot()"
   ]
  },
  {
   "cell_type": "markdown",
   "id": "fe54e8e8",
   "metadata": {},
   "source": [
    "Again, this is not the prettiest way to display the streets maybe, and you might want to change a few parameters such as colors, etc. All of this is possible, as we will see below, but this gives us a quick check of what lines look like."
   ]
  },
  {
   "cell_type": "markdown",
   "id": "33b86c65",
   "metadata": {},
   "source": [
    "### Points"
   ]
  },
  {
   "cell_type": "markdown",
   "id": "fcc57e99",
   "metadata": {},
   "source": [
    "Points take a similar approach for quick plotting:"
   ]
  },
  {
   "cell_type": "code",
   "execution_count": null,
   "id": "0009eebe-a365-47ab-ab4d-1301f4e0c01f",
   "metadata": {},
   "outputs": [],
   "source": [
    "pois.head()"
   ]
  },
  {
   "cell_type": "code",
   "execution_count": null,
   "id": "55f3634f",
   "metadata": {},
   "outputs": [],
   "source": [
    "pois.plot()"
   ]
  },
  {
   "cell_type": "markdown",
   "id": "1a8e6af5",
   "metadata": {},
   "source": [
    "## Styling plots"
   ]
  },
  {
   "cell_type": "markdown",
   "id": "6fab603c",
   "metadata": {},
   "source": [
    "It is possible to tweak several aspects of a plot to customize if to particular needs. In this section, we will explore some of the basic elements that will allow us to obtain more compelling maps.\n",
    "\n",
    "**NOTE**: some of these variations are very straightforward while others are more intricate and require tinkering with the internal parts of a plot. They are not necessarily organized by increasing level of complexity."
   ]
  },
  {
   "cell_type": "markdown",
   "id": "99fec62b",
   "metadata": {},
   "source": [
    "### Changing transparency"
   ]
  },
  {
   "cell_type": "markdown",
   "id": "eef5c5af",
   "metadata": {},
   "source": [
    "The intensity of color of a polygon can be easily changed through the `alpha` attribute in plot. This is specified as a value betwee zero and one, where the former is entirely transparent while the latter is the fully opaque (maximum intensity):"
   ]
  },
  {
   "cell_type": "code",
   "execution_count": null,
   "id": "debc7443",
   "metadata": {},
   "outputs": [],
   "source": [
    "pois.plot(alpha=0.1)"
   ]
  },
  {
   "cell_type": "markdown",
   "id": "7442256d",
   "metadata": {},
   "source": [
    "### Removing axes"
   ]
  },
  {
   "cell_type": "markdown",
   "id": "ed1a82b1",
   "metadata": {},
   "source": [
    "Although in some cases, the axes can be useful to obtain context, most of the times maps look and feel better without them. Removing the axes involves wrapping the plot into a figure, which takes a few more lines of aparently useless code but that, in time, it will allow you to tweak the map further and to create much more flexible designs:"
   ]
  },
  {
   "cell_type": "code",
   "execution_count": null,
   "id": "8fd959a7",
   "metadata": {},
   "outputs": [],
   "source": [
    "# Setup figure and axis\n",
    "f, ax = plt.subplots(1)\n",
    "# Plot layer of polygons on the axis\n",
    "cities.plot(ax=ax)\n",
    "# Remove axis frames\n",
    "ax.set_axis_off()\n",
    "# Display\n",
    "plt.show()"
   ]
  },
  {
   "cell_type": "markdown",
   "id": "86967d21",
   "metadata": {},
   "source": [
    "Let us stop for a second a study each of the previous lines:\n",
    "\n",
    "1. We have first created a figure named `f` with one axis named `ax` by using the command `plt.subplots` (part of the library `matplotlib`, which we have imported at the top of the notebook). Note how the method is returning two elements and we can assign each of them to objects with different name (`f` and `ax`) by simply listing them at the front of the line, separated by commas.\n",
    "1. Second, we plot the geographies as before, but this time we tell the function that we want it to draw the polygons on the axis we are passing, `ax`. This method returns the axis with the geographies in them, so we make sure to store it on an object with the same name, `ax`.\n",
    "1. On the third line, we effectively remove the box with coordinates.\n",
    "1. Finally, we draw the entire plot by calling `plt.show()`."
   ]
  },
  {
   "cell_type": "markdown",
   "id": "9f2c5864",
   "metadata": {},
   "source": [
    "### Adding a title"
   ]
  },
  {
   "cell_type": "markdown",
   "id": "5097f820",
   "metadata": {},
   "source": [
    "Adding a title is an extra line, if we are creating the plot within a figure, as we just did. To include text on top of the figure:"
   ]
  },
  {
   "cell_type": "code",
   "execution_count": null,
   "id": "819f0f4f",
   "metadata": {},
   "outputs": [],
   "source": [
    "# Setup figure and axis\n",
    "f, ax = plt.subplots(1)\n",
    "# Add layer of polygons on the axis\n",
    "streets.plot(ax=ax)\n",
    "# Add figure title\n",
    "f.suptitle(\"Streets in Madrid\")\n",
    "# Display\n",
    "plt.show()"
   ]
  },
  {
   "cell_type": "markdown",
   "id": "8df95616",
   "metadata": {},
   "source": [
    "### Changing the size of the map"
   ]
  },
  {
   "cell_type": "markdown",
   "id": "903ef2e7",
   "metadata": {},
   "source": [
    "The size of the plot is changed equally easily in this context. The only difference is that it is specified when we create the figure with the argument `figsize`. The first number represents the width, the X axis, and the second corresponds with the height, the Y axis."
   ]
  },
  {
   "cell_type": "code",
   "execution_count": null,
   "id": "0f72c691",
   "metadata": {},
   "outputs": [],
   "source": [
    "# Setup figure and axis with different size\n",
    "f, ax = plt.subplots(1, figsize=(12, 12))\n",
    "# Add layer of polygons on the axis\n",
    "cities.plot(ax=ax)\n",
    "# Display\n",
    "plt.show()"
   ]
  },
  {
   "cell_type": "markdown",
   "id": "c172446d",
   "metadata": {},
   "source": [
    "### Modifying borders"
   ]
  },
  {
   "cell_type": "markdown",
   "id": "947f3ced",
   "metadata": {},
   "source": [
    "Border lines sometimes can distort or impede proper interpretation of a map. In those cases, it is useful to know how they can be modified. Although not too complicated, the way to access borders in `geopandas` is not as straightforward as it is the case for other aspects of the map, such as size or frame. Let us first see the code to make the *lines thicker* and *black*, and then we will work our way through the different steps:"
   ]
  },
  {
   "cell_type": "code",
   "execution_count": null,
   "id": "9f08e083",
   "metadata": {},
   "outputs": [],
   "source": [
    "# Setup figure and axis\n",
    "f, ax = plt.subplots(1, figsize=(12, 12))\n",
    "# Add layer of polygons on the axis, set fill color (`facecolor`) and boundary\n",
    "# color (`edgecolor`)\n",
    "cities.plot(\n",
    "    linewidth=1, \n",
    "    facecolor='red', \n",
    "    edgecolor='black', \n",
    "    ax=ax\n",
    ");"
   ]
  },
  {
   "cell_type": "markdown",
   "id": "d90ca23a",
   "metadata": {},
   "source": [
    "Note how the lines are thicker. In addition, all the polygons are colored in the same (default) color, light red. However, because the lines are thicker, we can only see the polygon filling for those cities with an area large enough.\n",
    "\n",
    "Let us examine line by line what we are doing in the code snippet:\n",
    "\n",
    "* We begin by creating the figure (`f`) object and one axis inside it (`ax`) where we will plot the map.\n",
    "* Then, we call `plot` as usual, but pass in two new arguments: `linewidth` for the width of the line; `facecolor`, to control the color each polygon is filled with; and `edgecolor`, to control the color of the boundary.\n",
    "\n",
    "This approach works very similarly with other geometries, such as lines. For example, if we wanted to plot the streets in red, we would simply:"
   ]
  },
  {
   "cell_type": "code",
   "execution_count": null,
   "id": "f335693c",
   "metadata": {},
   "outputs": [],
   "source": [
    "# Setup figure and axis\n",
    "f, ax = plt.subplots(1)\n",
    "# Add layer with lines, set them red and with different line width\n",
    "# and append it to the axis `ax`\n",
    "streets.plot(linewidth=2, color='red', ax=ax)"
   ]
  },
  {
   "cell_type": "markdown",
   "id": "276ed5e1",
   "metadata": {},
   "source": [
    "Important, note that in the case of lines the parameter to control the color is simply `color`. This is because lines do not have an area, so there is no need to distinguish between the main area (`facecolor`) and the border lines (`edgecolor`)."
   ]
  },
  {
   "cell_type": "markdown",
   "id": "c068e9bc",
   "metadata": {},
   "source": [
    "### Transforming CRS"
   ]
  },
  {
   "cell_type": "markdown",
   "id": "68ce458d",
   "metadata": {},
   "source": [
    "The coordindate reference system (CRS) is the way geographers and cartographers have to represent a three-dimensional object, such as the round earth, on a two-dimensional plane, such as a piece of paper or a computer screen. If the source data contain information on the CRS of the data, we can modify this in a `GeoDataFrame`. In particular, if we have multiple data sets that should be analyzed or plotted together, they need to be in the same CRS."
   ]
  },
  {
   "cell_type": "code",
   "execution_count": null,
   "id": "4ef86d5f-50e0-42ae-811a-3cbbb46b354c",
   "metadata": {},
   "outputs": [],
   "source": [
    "print(cities.crs.to_epsg())\n",
    "print(streets.crs.to_epsg())\n",
    "print(pois.crs.to_epsg())"
   ]
  },
  {
   "cell_type": "code",
   "execution_count": null,
   "id": "d6a2a52b",
   "metadata": {},
   "outputs": [],
   "source": [
    "cities.crs"
   ]
  },
  {
   "cell_type": "markdown",
   "id": "2b5d0b52",
   "metadata": {},
   "source": [
    "As we can see, there is information stored about the reference system: it is using the standard Spanish projection, which is expressed in meters. There are also other less decipherable parameters but we do not need to worry about them right now.\n",
    "\n",
    "If we want to modify this and \"reproject\" the polygons into a different CRS, the quickest way is to find the [EPSG](https://en.wikipedia.org/wiki/International_Association_of_Oil_%26_Gas_Producers#European_Petroleum_Survey_Group) code online ([epsg.io](http://epsg.io/) is a good one, although there are others too). For example, if we wanted to transform the dataset into lat/lon coordinates, we would use its EPSG code, 4326:"
   ]
  },
  {
   "cell_type": "code",
   "execution_count": null,
   "id": "1eeb8ac7",
   "metadata": {},
   "outputs": [],
   "source": [
    "# Reproject (`to_crs`) and plot (`plot`) polygons\n",
    "cities.to_crs(epsg=4326).plot()\n",
    "# Set equal axis\n",
    "lims = plt.axis('equal')"
   ]
  },
  {
   "cell_type": "markdown",
   "id": "3946b69f",
   "metadata": {},
   "source": [
    "The shape of the polygons is slightly different. Furthermore, note how the *scale* in which they are plotted differs."
   ]
  },
  {
   "cell_type": "markdown",
   "id": "3411c947",
   "metadata": {},
   "source": [
    "## Composing multi-layer maps"
   ]
  },
  {
   "cell_type": "markdown",
   "id": "1abd54a9",
   "metadata": {},
   "source": [
    "So far we have considered many aspects of plotting *a single* layer of data. However, in many cases, an effective map will require more than one: for example we might want to display streets on top of the polygons of neighborhoods, and add a few points for specific locations we want to highlight. At the very heart of GIS is the possibility to combine spatial information from different sources by overlaying it on top of each other, and this is fully supported in Python.\n",
    "\n",
    "For this section, let's select only Madrid from the `cities` table and convert it to lat/lon so it's aligned with the streets and POIs layers:"
   ]
  },
  {
   "cell_type": "code",
   "execution_count": null,
   "id": "2a966683",
   "metadata": {},
   "outputs": [],
   "source": [
    "mad = cities.loc[[12], :].to_crs(epsg=4326)\n",
    "mad"
   ]
  },
  {
   "cell_type": "markdown",
   "id": "d47c63fc",
   "metadata": {},
   "source": [
    "Combining different layers on a single map boils down to adding each of them to the same axis in a sequential way, as if we were literally overlaying one on top of the previous one. For example, let's plot the boundary of Madrid and its bars:"
   ]
  },
  {
   "cell_type": "code",
   "execution_count": null,
   "id": "2a329a59",
   "metadata": {},
   "outputs": [],
   "source": [
    "# Setup figure and axis\n",
    "f, ax = plt.subplots(1)\n",
    "# Add a layer with polygon on to axis `ax`\n",
    "mad.plot(ax=ax, color=\"yellow\")\n",
    "# Add a layer with lines on top in axis `ax`\n",
    "pois.plot(ax=ax, color=\"green\")"
   ]
  },
  {
   "cell_type": "markdown",
   "id": "74975d96",
   "metadata": {},
   "source": [
    "## Saving maps to figures"
   ]
  },
  {
   "cell_type": "markdown",
   "id": "7bb2c478",
   "metadata": {},
   "source": [
    "Once we have produced a map we are content with, we might want to save it to a file so we can include it into a report, article, website, etc. Exporting maps in Python involves replacing `plt.show` by `plt.savefig` at the end of the code block to specify where and how to save it. For example to save the previous map into a `png` file in the same folder where the notebook is hosted:"
   ]
  },
  {
   "cell_type": "code",
   "execution_count": null,
   "id": "2768fb7e",
   "metadata": {},
   "outputs": [],
   "source": [
    "# Setup figure and axis\n",
    "f, ax = plt.subplots(1)\n",
    "# Add a layer with polygon on to axis `ax`\n",
    "mad.plot(ax=ax, color=\"yellow\")\n",
    "# Add a layer with lines on top in axis `ax`\n",
    "pois.plot(ax=ax, color=\"green\")\n",
    "# Save figure to a PNG file\n",
    "plt.savefig('madrid_bars.png')"
   ]
  },
  {
   "cell_type": "markdown",
   "id": "0dafa1a1",
   "metadata": {},
   "source": [
    "If you now check on the folder, you'll find a `png` (image) file with the map.\n",
    "\n",
    "The command `plt.savefig` contains a large number of options and additional parameters to tweak. Given the size of the figure created is not very large, we can increase this with the argument `dpi`, which stands for \"dots per inch\" and it's a standard measure of resolution in images. For example, for a high quality image, we could use 500:"
   ]
  },
  {
   "cell_type": "code",
   "execution_count": null,
   "id": "050d06cc",
   "metadata": {},
   "outputs": [],
   "source": [
    "# Setup figure and axis\n",
    "f, ax = plt.subplots(1)\n",
    "# Add a layer with polygon on to axis `ax`\n",
    "mad.plot(ax=ax, color=\"yellow\")\n",
    "# Add a layer with lines on top in axis `ax`\n",
    "pois.plot(ax=ax, color=\"green\")\n",
    "# Save figure to a PNG file\n",
    "plt.savefig('madrid_bars.png', dpi=500)"
   ]
  },
  {
   "cell_type": "markdown",
   "id": "4b29c6a5",
   "metadata": {},
   "source": [
    "## Manipulating spatial tables (`GeoDataFrames`)"
   ]
  },
  {
   "cell_type": "markdown",
   "id": "9c4c855f",
   "metadata": {},
   "source": [
    "Once we have an understanding of how to visually display spatial information contained, let us see how it can be combined with the operations learnt in the previous session about manipulating non-spatial tabular data. Essentially, the key is to realize that a `GeoDataFrame` contains most of its spatial information in a single column named `geometry`, but the rest of it looks and behaves exactly like a non-spatial `DataFrame` (in fact, it is). \n",
    "\n",
    "`GeoDataFrame`s come with a whole range of traditional GIS operations built-in. Here we will run through a small subset of them that contains some of the most commonly used ones."
   ]
  },
  {
   "cell_type": "markdown",
   "id": "5e8c8966",
   "metadata": {},
   "source": [
    "### Area calculation\n",
    "\n",
    "One of the spatial aspects we often need from polygons is their area. \"How big is it?\" is a question that always haunts us when we think of countries, regions, or cities. To obtain area measurements, first make sure your `GeoDataFrame` is projected. If that is the case, you can calculate areas as follows:"
   ]
  },
  {
   "cell_type": "code",
   "execution_count": null,
   "id": "d18b2cb7",
   "metadata": {},
   "outputs": [],
   "source": [
    "city_areas = cities.area\n",
    "city_areas.head()"
   ]
  },
  {
   "cell_type": "markdown",
   "id": "0b1fa10f",
   "metadata": {},
   "source": [
    "This indicates that the area of the first city in our table takes up 8,450,000 squared metres. If we wanted to convert into squared kilometres, we can divide by 1,000,000:"
   ]
  },
  {
   "cell_type": "code",
   "execution_count": null,
   "id": "cb1743d3",
   "metadata": {},
   "outputs": [],
   "source": [
    "areas_in_sqkm = city_areas / 1000000\n",
    "areas_in_sqkm.head()"
   ]
  },
  {
   "cell_type": "markdown",
   "id": "1311daf9",
   "metadata": {},
   "source": [
    "### Length\n",
    "\n",
    "Similarly, an equally common question with lines is their length. Also similarly, their computation is relatively straightforward in Python, provided that our data are projected. Here we will perform the projection (`to_crs`) and the calculation of the length at the same time:"
   ]
  },
  {
   "cell_type": "code",
   "execution_count": null,
   "id": "b56f07a0",
   "metadata": {},
   "outputs": [],
   "source": [
    "street_length = streets.to_crs(epsg=25830).length\n",
    "street_length.head()"
   ]
  },
  {
   "cell_type": "markdown",
   "id": "6c2dc275",
   "metadata": {},
   "source": [
    "Since the CRS we use (`EPSG:25830`) is expressed in metres, we can tell the first street segment is about 37m."
   ]
  },
  {
   "cell_type": "markdown",
   "id": "2938226e",
   "metadata": {},
   "source": [
    "### Centroid calculation"
   ]
  },
  {
   "cell_type": "markdown",
   "id": "5f0876fe",
   "metadata": {},
   "source": [
    "Sometimes it is useful to summarize a polygon into a single point and, for that, a good candidate is its centroid (almost like a spatial analogue of the average). The following command will return a `GeoSeries` (a single column with spatial data) with the centroids of a polygon `GeoDataFrame`:"
   ]
  },
  {
   "cell_type": "code",
   "execution_count": null,
   "id": "bccc86f7",
   "metadata": {},
   "outputs": [],
   "source": [
    "cents = cities.centroid\n",
    "cents.head()"
   ]
  },
  {
   "cell_type": "markdown",
   "id": "4a19d6a9",
   "metadata": {},
   "source": [
    "Note how `cents` is not an entire table but a single column, or a `GeoSeries` object. This means you can plot it directly, just like a table:"
   ]
  },
  {
   "cell_type": "code",
   "execution_count": null,
   "id": "b600708f",
   "metadata": {},
   "outputs": [],
   "source": [
    "cents.plot()"
   ]
  },
  {
   "cell_type": "markdown",
   "id": "1ab66fd2",
   "metadata": {},
   "source": [
    "But you don't need to call a `geometry` column to inspect the spatial objects. In fact, if you do it will return an error because there is not any `geometry` column, the object `cents` itself is the geometry."
   ]
  },
  {
   "cell_type": "markdown",
   "id": "aea12b60",
   "metadata": {},
   "source": [
    "### Point in polygon (PiP)\n",
    "\n",
    "Knowing whether a point is inside a polygon is conceptually a straightforward exercise but computationally a tricky task to perform. The way to perform this operation in `GeoPandas` is through the `contains` method, available for each polygon object."
   ]
  },
  {
   "cell_type": "code",
   "execution_count": null,
   "id": "46647fcd",
   "metadata": {},
   "outputs": [],
   "source": [
    "poly = cities.loc[12, \"geometry\"]\n",
    "pt1 = cents[0]\n",
    "pt2 = cents[12]"
   ]
  },
  {
   "cell_type": "markdown",
   "id": "4fc55a48",
   "metadata": {},
   "source": [
    "And we can perform the checks as follows:"
   ]
  },
  {
   "cell_type": "code",
   "execution_count": null,
   "id": "b87c617f",
   "metadata": {},
   "outputs": [],
   "source": [
    "poly.contains(pt1)"
   ]
  },
  {
   "cell_type": "code",
   "execution_count": null,
   "id": "f5aeb889",
   "metadata": {},
   "outputs": [],
   "source": [
    "poly.contains(pt2)"
   ]
  },
  {
   "cell_type": "markdown",
   "id": "b9e0e572",
   "metadata": {},
   "source": [
    "Performing point-in-polygon in this way is instructive and useful for pedagogical reasons, but for cases with many points and polygons, it is not particularly efficient. In these situations, it is much more advisable to perform then as a \"spatial join\". If you are interested in these, see this link to learn more about them:\n",
    "https://geopandas.org/en/stable/docs/user_guide/mergingdata.html#spatial-joins"
   ]
  },
  {
   "cell_type": "markdown",
   "id": "41b19dd1",
   "metadata": {},
   "source": [
    "### Buffers\n",
    "\n",
    "Buffers are one of the classical GIS operations in which an area is drawn around a particular geometry, given a specific radious. These are very useful, for instance, in combination with point-in-polygon operations to calculate accessibility, catchment areas, etc.\n",
    "\n",
    "For this example, we will use the bars table, but will project it to the same CRS as `cities`, so it is expressed in metres:"
   ]
  },
  {
   "cell_type": "code",
   "execution_count": null,
   "id": "191fe77c",
   "metadata": {},
   "outputs": [],
   "source": [
    "pois_projected = pois.to_crs(cities.crs)\n",
    "pois_projected.crs"
   ]
  },
  {
   "cell_type": "markdown",
   "id": "b8852640",
   "metadata": {},
   "source": [
    "To create a buffer using `geopandas`, simply call the `buffer` method, passing in the radious. For example, to draw a 500m. buffer around every bar in Madrid:"
   ]
  },
  {
   "cell_type": "code",
   "execution_count": null,
   "id": "fe52a781",
   "metadata": {},
   "outputs": [],
   "source": [
    "buf = pois_projected.buffer(500)\n",
    "buf.head()"
   ]
  },
  {
   "cell_type": "markdown",
   "id": "d27305ac",
   "metadata": {},
   "source": [
    "And plotting it is equally straighforward:"
   ]
  },
  {
   "cell_type": "code",
   "execution_count": null,
   "id": "e5fc69e2",
   "metadata": {},
   "outputs": [],
   "source": [
    "f, ax = plt.subplots(1)\n",
    "# Plot buffer\n",
    "buf.plot(ax=ax, linewidth=0)\n",
    "# Plot named places on top for reference\n",
    "# [NOTE how we modify the dot size (`markersize`)\n",
    "# and the color (`color`)]\n",
    "pois_projected.plot(ax=ax, markersize=1, color='yellow')"
   ]
  },
  {
   "cell_type": "markdown",
   "id": "7fb6a2b8",
   "metadata": {},
   "source": [
    "## Adding base layers from web sources\n",
    "\n",
    "Many single datasets lack context when displayed on their own. A common approach to alleviate this is to use web tiles, which are a way of quickly obtaining geographical context to present spatial data. In Python, we can use [`contextily`](https://contextily.readthedocs.io) to pull down tiles and display them along with our own geographic data.\n",
    "\n",
    "We can begin by creating a map in the same way we would do normally, and then use the `add_basemap` command to, er, add a basemap:"
   ]
  },
  {
   "cell_type": "code",
   "execution_count": null,
   "id": "82bb3fde",
   "metadata": {},
   "outputs": [],
   "source": [
    "ax = cities.plot(color=\"red\")\n",
    "cx.add_basemap(ax);"
   ]
  },
  {
   "cell_type": "markdown",
   "id": "b6a3f399-8684-41f7-afdc-09069a06f5f1",
   "metadata": {},
   "source": [
    "Oops, something went wrong! Let us fix it:"
   ]
  },
  {
   "cell_type": "code",
   "execution_count": null,
   "id": "48731287-8c85-4645-86db-c881ec7f2a6c",
   "metadata": {},
   "outputs": [],
   "source": [
    "ax = cities.plot(color=\"black\")\n",
    "cx.add_basemap(ax, crs=cities.crs);"
   ]
  },
  {
   "cell_type": "markdown",
   "id": "9d2b39f2",
   "metadata": {},
   "source": [
    "We need to be explicit when adding the basemap to state the coordinate reference system (`crs`) our data is expressed in, `contextily` will not be able to pick it up otherwise. Conversely, we could change our data's CRS into [Pseudo-Mercator](http://epsg.io/3857), the native reference system for most web tiles:"
   ]
  },
  {
   "cell_type": "code",
   "execution_count": null,
   "id": "d97705f0",
   "metadata": {},
   "outputs": [],
   "source": [
    "cities_wm = cities.to_crs(epsg=3857)\n",
    "ax = cities_wm.plot(color=\"black\")\n",
    "cx.add_basemap(ax);"
   ]
  },
  {
   "cell_type": "markdown",
   "id": "38dd0ff5",
   "metadata": {},
   "source": [
    "Note how the coordinates are different but, if we set it right, either approach aligns tiles and data nicely."
   ]
  },
  {
   "cell_type": "markdown",
   "id": "1fe34006",
   "metadata": {},
   "source": [
    "Web tiles can be integrated with other features of maps in a similar way as we have seen above. So, for example, we can change the size of the map, and remove the axis. Let's use Madrid for this example:"
   ]
  },
  {
   "cell_type": "code",
   "execution_count": null,
   "id": "a717f17c",
   "metadata": {},
   "outputs": [],
   "source": [
    "f, ax = plt.subplots(1, figsize=(9, 9))\n",
    "mad.plot(alpha=0.25, ax=ax)\n",
    "cx.add_basemap(ax, crs=mad.crs)\n",
    "ax.set_axis_off()"
   ]
  },
  {
   "cell_type": "markdown",
   "id": "518dc38f",
   "metadata": {},
   "source": [
    "Now, `contextily` offers a lot of options in terms of the sources and providers you can use to create your basemaps. For example, we can use satellite imagery instead:"
   ]
  },
  {
   "cell_type": "code",
   "execution_count": null,
   "id": "c85b82f6",
   "metadata": {},
   "outputs": [],
   "source": [
    "f, ax = plt.subplots(1, figsize=(9, 9))\n",
    "mad.plot(alpha=0.25, ax=ax)\n",
    "cx.add_basemap(\n",
    "    ax, \n",
    "    crs=mad.crs,\n",
    "    source=cx.providers.Esri.WorldImagery\n",
    ")\n",
    "ax.set_axis_off()"
   ]
  },
  {
   "cell_type": "markdown",
   "id": "9d66ae18",
   "metadata": {},
   "source": [
    "Have a look at this Twitter thread to get some further ideas on providers:"
   ]
  },
  {
   "cell_type": "code",
   "execution_count": null,
   "id": "0d7da097",
   "metadata": {
    "scrolled": true,
    "tags": [
     "remove-input"
    ]
   },
   "outputs": [],
   "source": [
    "from IPython.display import HTML\n",
    "tweet = \"\"\"\n",
    "<blockquote class=\"twitter-tweet\" data-lang=\"en\"><p lang=\"et\" dir=\"ltr\">Terrain maps <a href=\"https://t.co/VtN9bGG5Mt\">pic.twitter.com/VtN9bGG5Mt</a></p>&mdash; Dani Arribas-Bel (@darribas) <a href=\"https://twitter.com/darribas/status/1157297596689539072?ref_src=twsrc%5Etfw\">August 2, 2019</a></blockquote>\n",
    "<script async src=\"https://platform.twitter.com/widgets.js\" charset=\"utf-8\"></script>\n",
    "\"\"\"\n",
    "HTML(tweet)"
   ]
  },
  {
   "cell_type": "markdown",
   "id": "ea44b2e2",
   "metadata": {},
   "source": [
    "And consider checking out the documentation website for the package:\n",
    "\n",
    "> [https://contextily.readthedocs.io/en/latest/](https://contextily.readthedocs.io/en/latest/)"
   ]
  },
  {
   "cell_type": "markdown",
   "id": "8929df73",
   "metadata": {
    "tags": []
   },
   "source": [
    "# PART 2: Map projections\n",
    "\n",
    "**Coordinate reference systems (CRS)** are important because the geometric shapes in a GeoDataFrame are simply a collection of coordinates in an arbitrary space. A CRS tells Python how those coordinates are related to places on the Earth. **A map projection** (or a projected coordinate system) is a systematic transformation of the latitudes and longitudes into a plain surface where units are quite commonly represented as meters (instead of decimal degrees). This transformation is used to **represent the three dimensional earth on a flat, two dimensional map**.\n",
    "\n",
    "As the CRS in different spatial datasets differ fairly often (i.e. one might have coordinates defined in decimal degrees while the other one has them in meters), it is a common procedure to **reproject** (transform) different layers into a common CRS. It is important that the layers are in the same coordinate reference system when analyzing the spatial relationships between the layers, for example, when making a Point in Polygon -query, or other type of overlay analysis.\n",
    "\n",
    "Choosing an appropriate projection for your map is not always straightforward because it depends on what you actually want to represent with your map, and what is the spatial scale of your data. In fact, there is not a single \"perfect projection\" since each one of them has some strengths and weaknesses, and you should choose a projection that fits best for your needs. In fact, the projection you choose might even tell something about you!\n",
    "    \n",
    "<img src=\"files/Map-projections.png\">\n",
    "\n",
    "*Source: XKCD, See a full comic about [\"What your favorite map projection tells about you\"](https://xkcd.com/977/)*.\n",
    "\n",
    "Overview of how to choose a map projection:\n",
    "- https://www.amcharts.com/dataviz-tip-15-choose-map-projection/\n",
    "- https://ubc-library-rc.github.io/map-projections/content/choosing-projection.html\n",
    " \n",
    "Here also some nice tools for you to master map projections: https://geoawesomeness.com/5-tools-will-let-master-map-projections/  \n",
    "\n",
    "## Distortions\n",
    "Tissot's indicatrix gives a visual cue to distortions by showing you how a circle is deformed in different parts of the map: https://en.wikipedia.org/wiki/Tissot's_indicatrix  \n",
    "Examples for distortions (of the Mercator projection):\n",
    "<table>\n",
    "    <tr><td><img src=\"files/distort01.jpg\"></td><td><img src=\"files/distort02.png\"></td></tr>\n",
    "    </table>\n",
    "Try out: https://mathigon.org/course/circles/spheres-cones-cylinders#sphere-maps"
   ]
  },
  {
   "cell_type": "markdown",
   "id": "0edcdbd1",
   "metadata": {},
   "source": [
    "## Coordinate reference system (CRS) in Geopandas\n",
    "\n",
    "Luckily, defining and changing projections is easy using Geopandas and a library called [pyproj](https://pyproj4.github.io/pyproj/stable/). In this tutorial we will see **how to retrieve the\n",
    "coordinate reference system information from the data, and how to re-project the data into another crs**. We will re-project a data file from\n",
    "WGS84 (lat, lon coordinates) into a Lambert Azimuthal Equal Area projection which is the [recommended projection for\n",
    "Europe](http://mapref.org/LinkedDocuments/MapProjectionsForEurope-EUR-20120.pdf) by European Commission.\n",
    "\n",
    "For this tutorial we will be using a Shapefile called `Europe_borders.shp` representing the country borders in Europe, that you already should have [downloaded during the previous tutorial](geopandas-basics.ipynb) into `L2_data` folder. \n",
    "\n",
    "In Shapefiles, information about the coordinate reference system is stored in the `.prj` -file. If this file is missing, you might be in trouble!. When reading the data into `GeoDataFrame` with Geopandas crs information is automatically stored into the `.crs` attribute of the GeoDataFrame.\n",
    "\n",
    "Let's start by reading the data from the `Europe_borders.shp` file and checking the `crs`:"
   ]
  },
  {
   "cell_type": "code",
   "execution_count": null,
   "id": "05c23cc3",
   "metadata": {},
   "outputs": [],
   "source": [
    "# Read the file\n",
    "fp = \"files/Europe_borders/Europe_borders.shp\"\n",
    "data = gpd.read_file(fp)"
   ]
  },
  {
   "cell_type": "code",
   "execution_count": null,
   "id": "b7e184d4",
   "metadata": {},
   "outputs": [],
   "source": [
    "# Check the coordinate reference system\n",
    "data.crs"
   ]
  },
  {
   "cell_type": "markdown",
   "id": "07023c67",
   "metadata": {},
   "source": [
    "What we see here is in fact a CRS object from the pyproj module. \n",
    "\n",
    "The EPSG number (named after the *European Petroleum Survey Group*) is a code that tells about the coordinate system of the dataset. \"[EPSG Geodetic Parameter Dataset](http://www.epsg.org/) is a collection of definitions of coordinate reference systems and coordinate transformations which may be global, regional, national or local in application\".\n",
    "\n",
    "The EPSG code of our geodataframe is`4326`, which refers to the WGS84 coordinate system (we can also figure this out by looking at the coordinates values which are longitude and latitudes decimal degrees).\n",
    "\n",
    "You can find a lot of information and lists of available coordinate reference systems from:\n",
    "\n",
    "  - [www.spatialreference.org](http://spatialreference.org/)\n",
    "  - [www.proj4.org](https://proj4.org/operations/projections/)\n",
    "  - [www.mapref.org](http://mapref.org/CollectionofCRSinEurope.html)"
   ]
  },
  {
   "cell_type": "markdown",
   "id": "3a74e6dd",
   "metadata": {},
   "source": [
    "- Let's continue by checking the values in our `geometry` -column to verify that the CRS of our GeoDataFrame seems correct:"
   ]
  },
  {
   "cell_type": "code",
   "execution_count": null,
   "id": "ec94e447",
   "metadata": {},
   "outputs": [],
   "source": [
    "data['geometry'].head()"
   ]
  },
  {
   "cell_type": "markdown",
   "id": "aa3cd955",
   "metadata": {},
   "source": [
    "As we can see, the coordinate values of the Polygons indeed look like latitude and longitude values, so everything seems to be in order.\n",
    "\n",
    "WGS84 projection is not really a good one for representing European borders on a map (areas get distorted), so let's convert those geometries into Lambert Azimuthal Equal Area projection ([EPSG: 3035](http://spatialreference.org/ref/epsg/etrs89-etrs-laea/)) which is the recommended projection by European Comission.\n",
    "\n",
    "Changing the projection is simple to [do in Geopandas](https://geopandas.org/en/stable/docs/user_guide/projections.html#re-projecting) with `.to_crs()` -function which is a built-in function of the GeoDataFrame. The function has two alternative parameters 1) `crs` and 2) `epgs` that can be used to make the coordinate transformation and re-project the data into the CRS that you want to use. \n",
    "\n",
    "- Let's re-project our data into `EPSG 3035` using `epsg` -parameter:"
   ]
  },
  {
   "cell_type": "code",
   "execution_count": null,
   "id": "ee7231e9",
   "metadata": {},
   "outputs": [],
   "source": [
    "# Let's make a backup copy of our data\n",
    "data_wgs84 = data.copy()\n",
    "\n",
    "# Reproject the data\n",
    "data = data.to_crs(epsg=3035)"
   ]
  },
  {
   "cell_type": "code",
   "execution_count": null,
   "id": "224c2fd3",
   "metadata": {},
   "outputs": [],
   "source": [
    "# Check the new geometry values\n",
    "data['geometry'].head()"
   ]
  },
  {
   "cell_type": "markdown",
   "id": "d1aa4d4d",
   "metadata": {},
   "source": [
    "And here we go, the coordinate values in the geometries have changed! Now we have successfully changed the projection of our layer into a new one, i.e. to `ETRS-LAEA` projection. \n",
    "\n",
    "To really understand what is going on, it is good to explore our data visually. Let's compare the datasets by making\n",
    "maps out of them.\n"
   ]
  },
  {
   "cell_type": "code",
   "execution_count": null,
   "id": "172e72a1",
   "metadata": {},
   "outputs": [],
   "source": [
    "data_wgs84.crs"
   ]
  },
  {
   "cell_type": "code",
   "execution_count": null,
   "id": "e4283a4b-6d53-4f59-97fa-937db543a015",
   "metadata": {},
   "outputs": [],
   "source": [
    "data.crs"
   ]
  },
  {
   "cell_type": "code",
   "execution_count": null,
   "id": "7b7baa33",
   "metadata": {},
   "outputs": [],
   "source": [
    "import matplotlib.pyplot as plt\n",
    "\n",
    "# Make subplots that are next to each other\n",
    "fig, (ax1, ax2) = plt.subplots(nrows=1, ncols=2, figsize=(12, 12))\n",
    "\n",
    "# Plot the data in WGS84 CRS\n",
    "data_wgs84.plot(ax=ax1, facecolor='gray')\n",
    "\n",
    "# Add title\n",
    "ax1.set_title(\"WGS84\")\n",
    "\n",
    "# Plot the one with ETRS-LAEA projection\n",
    "data.plot(ax=ax2, facecolor='blue')\n",
    "\n",
    "# Add title\n",
    "ax2.set_title(\"ETRS Lambert Azimuthal Equal Area projection\")\n",
    "\n",
    "# Set aspect ratio as 1\n",
    "ax1.set_aspect(aspect=1)\n",
    "ax2.set_aspect(aspect=1)\n",
    "\n",
    "# Remove empty white space around the plot\n",
    "plt.tight_layout()"
   ]
  },
  {
   "cell_type": "markdown",
   "id": "8050b23e",
   "metadata": {},
   "source": [
    "Indeed, the maps look quite different, and the re-projected one looks much better in Europe as the areas especially in the north are more realistic and not so stretched as in WGS84.\n",
    "\n",
    "Finally, let's save our projected layer into a Shapefile so that we can use it later. Note, even if the crs information is stored in the .prj file, it might be a good idea also to include crs info in the filename:"
   ]
  },
  {
   "cell_type": "code",
   "execution_count": null,
   "id": "f647482f",
   "metadata": {},
   "outputs": [],
   "source": [
    "# Save to disk\n",
    "data.to_file(\"Europe_borders_epsg3035.shp\")"
   ]
  },
  {
   "cell_type": "markdown",
   "id": "3d825014",
   "metadata": {},
   "source": [
    "## Dealing with different CRS formats"
   ]
  },
  {
   "cell_type": "markdown",
   "id": "dc8a898c",
   "metadata": {},
   "source": [
    "There are various ways to present Coordinate Reference System information, such as [PROJ strings](https://proj.org/usage/quickstart.html), `EPSG codes`, `Well-Known-Text (WKT)`, `JSON`. It is likely that you will encounter some of these when working with spatial data obtained from different sources. Being able to convert the CRS information from one format to another is needed every now and then, hence, it is useful to know a few tricks how to do this.\n",
    "\n",
    "Luckily, dealing with CRS information is easy in Python using the [pyproj](https://pyproj4.github.io/pyproj/stable/) library. In fact, `pyproj` is a Python wrapper around a software called [PROJ](https://proj.org/) (maintained by [OSGeo](https://www.osgeo.org/) community), which is widely used tool for conducting coordinate transformations in various GIS softwares. `Pyproj` is also used under the hood in Geopandas, and it handles all the CRS definitions and coordinate transformations (reprojecting from CRS to another as we did earlier)."
   ]
  },
  {
   "cell_type": "markdown",
   "id": "ae945851",
   "metadata": {},
   "source": [
    "### Overview\n",
    "\n",
    "The following code cell prints out a summary summary of different ways of representing crs information using pyproj CRS. Here, we use the crs of the original European borders layer as a starting point:"
   ]
  },
  {
   "cell_type": "code",
   "execution_count": null,
   "id": "43a8cd8f",
   "metadata": {},
   "outputs": [],
   "source": [
    "### Import CRS class from pyproj\n",
    "from pyproj import CRS"
   ]
  },
  {
   "cell_type": "code",
   "execution_count": null,
   "id": "fb2e8f7b",
   "metadata": {},
   "outputs": [],
   "source": [
    "# PROJ dictionary:\n",
    "crs_dict = data_wgs84.crs\n",
    "\n",
    "# pyproj CRS object:\n",
    "crs_object = CRS(data_wgs84.crs)\n",
    "\n",
    "# EPSG code (here, the input crs information is a bit vague so we need to lower the confidence threshold)\n",
    "crs_epsg = CRS(data_wgs84.crs).to_epsg(min_confidence=25)\n",
    "\n",
    "# PROJ string\n",
    "crs_proj4 = CRS(data_wgs84.crs).to_proj4()\n",
    "\n",
    "# Well-Known Text (WKT)\n",
    "crs_wkt = CRS(data_wgs84.crs).to_wkt()"
   ]
  },
  {
   "cell_type": "code",
   "execution_count": null,
   "id": "d2b61827",
   "metadata": {},
   "outputs": [],
   "source": [
    "print(\"PROJ dictionary:\\n\", crs_dict)\n",
    "print(\"\\nCRS object:\\n\", crs_object)\n",
    "print(\"\\nEPSG code: \\n\", crs_epsg)\n",
    "print(\"\\nPROJ string: \\n\", crs_proj4)\n",
    "print(\"\\nWell-Known Text (WKT):\\n\",crs_wkt) "
   ]
  },
  {
   "cell_type": "markdown",
   "id": "1cde9887-567b-4a6f-aef9-67b7649bc415",
   "metadata": {},
   "source": [
    "<img src=\"files/standards.jpg\">"
   ]
  },
  {
   "cell_type": "markdown",
   "id": "0c443a73",
   "metadata": {},
   "source": [
    "### Pyproj CRS object\n",
    "\n",
    "Next, let's see how it is possible to easily extract useful information from CRS, and transform CRS information from format to another. `pyproj` -library has a [class](https://docs.python.org/3/tutorial/classes.html) called [CRS](https://pyproj4.github.io/pyproj/dev/api/crs.html) that provides many useful functionalities for dealing with CRS information."
   ]
  },
  {
   "cell_type": "code",
   "execution_count": null,
   "id": "f2e9899c",
   "metadata": {},
   "outputs": [],
   "source": [
    "# Let's see the current CRS of our data\n",
    "print(data.crs)"
   ]
  },
  {
   "cell_type": "markdown",
   "id": "0aa4905d",
   "metadata": {},
   "source": [
    "Printing the crs using the print() statement gives us the EPSG code. \n",
    "\n",
    "However, let's see how the same information looks like in other formats such as `WKT` or `Proj4` text. For this we need to use the `CRS` class.  "
   ]
  },
  {
   "cell_type": "markdown",
   "id": "88f04639",
   "metadata": {},
   "source": [
    "<div class=\"alert alert-info\">\n",
    "\n",
    "**Note**\n",
    "    \n",
    "The following examples have been tested to work with `pyproj` version `2.6.1` and `geopandas` version `0.8.1`. You can check package versions by running the `conda list` -command.\n",
    "   \n",
    "</div>"
   ]
  },
  {
   "cell_type": "code",
   "execution_count": null,
   "id": "380680ba",
   "metadata": {},
   "outputs": [],
   "source": [
    "# Initialize the CRS class for epsg code 3035:\n",
    "crs_object = CRS.from_epsg(3035)\n",
    "crs_object"
   ]
  },
  {
   "cell_type": "markdown",
   "id": "86d64e19",
   "metadata": {},
   "source": [
    "As we can see, the `CRS` object contains a of information about the coordinate reference system such as the `Name` of the CRS (ETRS89/LAEA Europe), the `area` where the CRS is in use (*Europe* with bounds *(-16.1, 32.88, 40.18, 84.17)*), and the `Datum` (European Terrestrial Reference System 1989). \n",
    "\n",
    "We can also easily parse this information individually as follows: "
   ]
  },
  {
   "cell_type": "code",
   "execution_count": null,
   "id": "d03a4954",
   "metadata": {},
   "outputs": [],
   "source": [
    "# Name\n",
    "print(\"Name:\", crs_object.name)\n",
    "\n",
    "# Coordinate system\n",
    "print(\"Coordinate system:\", crs_object.coordinate_system)\n",
    "\n",
    "# Bounds of the area where CRS is used\n",
    "print(\"Bounds:\", crs_object.area_of_use.bounds)"
   ]
  },
  {
   "cell_type": "markdown",
   "id": "031565a7",
   "metadata": {},
   "source": [
    "You can explore all the possible information that can be extracted from the CRS by typing `crs_object.` and pressing Tabulator. \n",
    "\n",
    "Let's see how we can convert the crs information from one format to another. Quite often it is useful to know the EPSG code of the CRS. Next, we will conduct a few transformations to demonstrate the capabilities of the `CRS` class."
   ]
  },
  {
   "cell_type": "code",
   "execution_count": null,
   "id": "819077df",
   "metadata": {},
   "outputs": [],
   "source": [
    "# Retrieve CRS information in WKT format\n",
    "crs_wkt = crs_object.to_wkt()\n",
    "print(crs_wkt)"
   ]
  },
  {
   "cell_type": "markdown",
   "id": "f64758ef",
   "metadata": {},
   "source": [
    "As we can see, the `WKT` format contains a *lot* of information. Typically, e.g. the `.prj` file of a Shapefile contains the information in this format. Let's see how it is possible to extract `EPSG` code from this. For doing it, we need to re-initialize the CRS object, this time from the `WKT` text presentation.   "
   ]
  },
  {
   "cell_type": "code",
   "execution_count": null,
   "id": "62933f3a",
   "metadata": {},
   "outputs": [],
   "source": [
    "# Retrieve EPSG code from WKT text\n",
    "epsg = CRS(crs_wkt).to_epsg()\n",
    "print(epsg)"
   ]
  },
  {
   "cell_type": "markdown",
   "id": "840f8d14",
   "metadata": {},
   "source": [
    "<div class=\"alert alert-info\">\n",
    "\n",
    "**Not able to recognize epsg?**\n",
    "    \n",
    "Sometimes `to_epsg()` isn't able to recognize the EPSG code from the WKT representation. This can happen if the WKT information is missing some details. Luckily, we can easily adjust the minimum level of confidence for matching the CRS info and the EPSG code. We can do this by adjusting a parameter `min_confidence` when calling the function. By default, the confidence level is 70 %, but it is also possible to set a lower confidence threshold. \n",
    "    \n",
    "The coordinate information of our input shapefile is incomplete, and does not yield an epsg value with default setting: However, CRS is able to determine the EPSG value with a lower confidence treshold: \n",
    "    \n",
    "```\n",
    "# Let's try to extract the EPSG code from the crs of our original data:\n",
    "CRS(data.crs).to_epsg()\n",
    ">>> None\n",
    "    \n",
    "# Let's try it again with a lower confidence requirement (25 %)\n",
    "CRS(data.crs).to_epsg(min_confidence=25)\n",
    ">>> 3035\n",
    "```\n",
    "However, be cautious when using this, as guessing the EPSG from \"exotic\" coordinate reference systems might also provide false results. \n",
    "</div>"
   ]
  },
  {
   "cell_type": "markdown",
   "id": "d91823f3",
   "metadata": {},
   "source": [
    "Let's now save our data to disk using the `WKT` format as the crs of our GeoDataFrame. WKT is a [preferred output format](https://proj.org/faq.html#what-is-the-best-format-for-describing-coordinate-reference-systems) when storing crs information as text."
   ]
  },
  {
   "cell_type": "code",
   "execution_count": null,
   "id": "12f1dfe9",
   "metadata": {},
   "outputs": [],
   "source": [
    "# Re-define the CRS of the input GeoDataFrame \n",
    "data.crs = CRS.from_epsg(3035).to_wkt()"
   ]
  },
  {
   "cell_type": "code",
   "execution_count": null,
   "id": "15678b26",
   "metadata": {},
   "outputs": [],
   "source": [
    "print(data.crs)"
   ]
  },
  {
   "cell_type": "code",
   "execution_count": null,
   "id": "fd6031e9",
   "metadata": {},
   "outputs": [],
   "source": [
    "# Save to disk\n",
    "#data.to_file(\"Europe_borders_epsg3035.shp\")"
   ]
  },
  {
   "cell_type": "markdown",
   "id": "4b093973",
   "metadata": {},
   "source": [
    "That's it. \n",
    "\n",
    "\n",
    "**HINT**: A module called [PyCRS](https://github.com/karimbahgat/PyCRS) can also be useful library as it contains information and supports many different coordinate reference definitions, such as OGC WKT (v1), ESRI WKT, Proj4, and any EPSG, ESRI, or SR-ORG code available from spatialreference.org."
   ]
  },
  {
   "cell_type": "markdown",
   "id": "b2950419",
   "metadata": {},
   "source": [
    "## Global map projections\n",
    "\n",
    "Finally, let's play around with global map projections :) `L2_data` folder conaints a layer `ne_110m_admin_0_countries.shp` that represents the country borders of the world. The data was downloaded from https://www.naturalearthdata.com/. \n",
    "\n",
    "#### Check your understanding\n",
    "\n",
    "<div class=\"alert alert-info\">\n",
    "\n",
    "    \n",
    "Read in a global dataset and plot three maps with different projections! See hints and projection definitions from:\n",
    "    \n",
    "- http://geopandas.org/projections.html\n",
    "- https://pyproj4.github.io/pyproj/dev/api/crs.html\n",
    "- https://spatialreference.org/\n",
    "    \n",
    "When plotting the maps, think about the advantages and disadvantages of different world map projections.\n",
    "   \n",
    "</div>\n"
   ]
  },
  {
   "cell_type": "code",
   "execution_count": null,
   "id": "3fbd9287",
   "metadata": {},
   "outputs": [],
   "source": [
    "# Read in data\n",
    "fp = \"files/ne_10m_admin_0_countries/ne_10m_admin_0_countries.shp\" \n",
    "admin = gpd.read_file(fp)"
   ]
  },
  {
   "cell_type": "code",
   "execution_count": null,
   "id": "c0eba61c",
   "metadata": {},
   "outputs": [],
   "source": [
    "# Check input crs\n",
    "admin.crs"
   ]
  },
  {
   "cell_type": "code",
   "execution_count": null,
   "id": "5c894c31",
   "metadata": {},
   "outputs": [],
   "source": [
    "# Set fig size\n",
    "plt.rcParams['figure.figsize'] = [12, 6]"
   ]
  },
  {
   "cell_type": "code",
   "execution_count": null,
   "id": "fd67f1f5",
   "metadata": {},
   "outputs": [],
   "source": [
    "#Plot in original crs\n",
    "admin.plot()\n",
    "plt.title(\"WGS84\")"
   ]
  },
  {
   "cell_type": "code",
   "execution_count": null,
   "id": "7963292a",
   "metadata": {},
   "outputs": [],
   "source": [
    "# Define projection as web mercator, 3785\n",
    "web_mercator = CRS.from_epsg(3785)\n",
    "\n",
    "# Re-project and plot\n",
    "admin.to_crs(web_mercator).plot()\n",
    "\n",
    "# Remove x and y axis\n",
    "plt.axis('off')\n",
    "plt.title(\"Web mercator\")"
   ]
  },
  {
   "cell_type": "code",
   "execution_count": null,
   "id": "8445f759",
   "metadata": {},
   "outputs": [],
   "source": [
    "# Define projection Eckert IV from https://spatialreference.org/ref/esri/54012/\n",
    "eckert_IV = CRS.from_proj4(\"+proj=eck4 +lon_0=0 +x_0=0 +y_0=0 +ellps=WGS84 +datum=WGS84 +units=m +no_defs\")\n",
    "\n",
    "# Re-project and plot\n",
    "admin.to_crs(eckert_IV).plot()\n",
    "\n",
    "# Remove x and y axis\n",
    "plt.axis('off')\n",
    "plt.title(\"Eckert IV\")"
   ]
  },
  {
   "cell_type": "code",
   "execution_count": null,
   "id": "73d342a7",
   "metadata": {},
   "outputs": [],
   "source": [
    "# Define an orthographic projection, centered in Denmark! from: http://www.statsmapsnpix.com/2019/09/globe-projections-and-insets-in-qgis.html\n",
    "ortho = CRS.from_proj4(\"+proj=ortho +lat_0=56.3 +lon_0=9.5 +x_0=0 +y_0=0 +a=6370997 +b=6370997 +units=m +no_defs\")\n",
    "\n",
    "# Re-project and plot\n",
    "admin.to_crs(ortho).plot()\n",
    "\n",
    "# Remove x and y axis\n",
    "plt.axis('off')\n",
    "plt.title(\"Orthographic\")"
   ]
  },
  {
   "cell_type": "markdown",
   "id": "a5d61836",
   "metadata": {},
   "source": [
    "## Summary\n",
    "That's it! In this section we learned how to:\n",
    "\n",
    "1. reproject (transform) the geometries from crs to another using the `to_crs()` -function in GeoPandas\n",
    "2. Define the coordinate reference system in different formats using `pyproj` `CRS`"
   ]
  }
 ],
 "metadata": {
  "kernelspec": {
   "display_name": "Python 3 (ipykernel)",
   "language": "python",
   "name": "python3"
  },
  "language_info": {
   "codemirror_mode": {
    "name": "ipython",
    "version": 3
   },
   "file_extension": ".py",
   "mimetype": "text/x-python",
   "name": "python",
   "nbconvert_exporter": "python",
   "pygments_lexer": "ipython3",
   "version": "3.9.7"
  }
 },
 "nbformat": 4,
 "nbformat_minor": 5
}
